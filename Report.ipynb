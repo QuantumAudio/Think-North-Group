{
 "cells": [
  {
   "cell_type": "code",
   "execution_count": 1,
   "metadata": {},
   "outputs": [],
   "source": [
    "import graphviz\n",
    "import pandas as pd\n",
    "import sklearn as skl\n",
    "import seaborn as sns\n",
    "from sklearn import tree\n",
    "from sklearn.cluster import KMeans \n",
    "from sklearn.metrics import r2_score\n",
    "from sklearn.linear_model import Ridge\n",
    "from sklearn.preprocessing import OrdinalEncoder\n",
    "from sklearn.model_selection import GridSearchCV\n",
    "from sklearn.linear_model import LinearRegression\n",
    "from sklearn.model_selection import train_test_split\n",
    "from sklearn.preprocessing import PolynomialFeatures\n",
    "import matplotlib.pyplot as plt\n",
    "%matplotlib inline"
   ]
  },
  {
   "cell_type": "code",
   "execution_count": 2,
   "metadata": {},
   "outputs": [
    {
     "data": {
      "text/html": [
       "<div>\n",
       "<style scoped>\n",
       "    .dataframe tbody tr th:only-of-type {\n",
       "        vertical-align: middle;\n",
       "    }\n",
       "\n",
       "    .dataframe tbody tr th {\n",
       "        vertical-align: top;\n",
       "    }\n",
       "\n",
       "    .dataframe thead th {\n",
       "        text-align: right;\n",
       "    }\n",
       "</style>\n",
       "<table border=\"1\" class=\"dataframe\">\n",
       "  <thead>\n",
       "    <tr style=\"text-align: right;\">\n",
       "      <th></th>\n",
       "      <th>City</th>\n",
       "      <th>DailyQuantity</th>\n",
       "      <th>Discount</th>\n",
       "      <th>Record ID</th>\n",
       "      <th>Item</th>\n",
       "      <th>Month</th>\n",
       "      <th>Promotion</th>\n",
       "    </tr>\n",
       "  </thead>\n",
       "  <tbody>\n",
       "    <tr>\n",
       "      <td>0</td>\n",
       "      <td>Chicago</td>\n",
       "      <td>99</td>\n",
       "      <td>0.00</td>\n",
       "      <td>a061U000003sOQTQA2</td>\n",
       "      <td>Pennants</td>\n",
       "      <td>01 - Jan</td>\n",
       "      <td>None</td>\n",
       "    </tr>\n",
       "    <tr>\n",
       "      <td>1</td>\n",
       "      <td>Little Rock</td>\n",
       "      <td>206</td>\n",
       "      <td>0.10</td>\n",
       "      <td>a061U000003sOQUQA2</td>\n",
       "      <td>Backpacks</td>\n",
       "      <td>01 - Jan</td>\n",
       "      <td>Mail-in</td>\n",
       "    </tr>\n",
       "    <tr>\n",
       "      <td>2</td>\n",
       "      <td>New York City</td>\n",
       "      <td>225</td>\n",
       "      <td>0.15</td>\n",
       "      <td>a061U000003sOQVQA2</td>\n",
       "      <td>Gloves</td>\n",
       "      <td>01 - Jan</td>\n",
       "      <td>Contest</td>\n",
       "    </tr>\n",
       "    <tr>\n",
       "      <td>3</td>\n",
       "      <td>New Haven</td>\n",
       "      <td>104</td>\n",
       "      <td>0.10</td>\n",
       "      <td>a061U000003sOQWQA2</td>\n",
       "      <td>Hats</td>\n",
       "      <td>01 - Jan</td>\n",
       "      <td>Mail-in</td>\n",
       "    </tr>\n",
       "    <tr>\n",
       "      <td>4</td>\n",
       "      <td>Boston</td>\n",
       "      <td>557</td>\n",
       "      <td>0.10</td>\n",
       "      <td>a061U000003sOQXQA2</td>\n",
       "      <td>Hats</td>\n",
       "      <td>01 - Jan</td>\n",
       "      <td>Mail-in</td>\n",
       "    </tr>\n",
       "  </tbody>\n",
       "</table>\n",
       "</div>"
      ],
      "text/plain": [
       "            City  DailyQuantity  Discount           Record ID       Item  \\\n",
       "0        Chicago             99      0.00  a061U000003sOQTQA2   Pennants   \n",
       "1    Little Rock            206      0.10  a061U000003sOQUQA2  Backpacks   \n",
       "2  New York City            225      0.15  a061U000003sOQVQA2     Gloves   \n",
       "3      New Haven            104      0.10  a061U000003sOQWQA2       Hats   \n",
       "4         Boston            557      0.10  a061U000003sOQXQA2       Hats   \n",
       "\n",
       "      Month Promotion  \n",
       "0  01 - Jan      None  \n",
       "1  01 - Jan   Mail-in  \n",
       "2  01 - Jan   Contest  \n",
       "3  01 - Jan   Mail-in  \n",
       "4  01 - Jan   Mail-in  "
      ]
     },
     "execution_count": 2,
     "metadata": {},
     "output_type": "execute_result"
    }
   ],
   "source": [
    "# import .csv into dataframe\n",
    "df = pd.read_csv('/Users/Shagz/Desktop/Think North Group/Database/Daily_Sales.csv')\n",
    "df.head()"
   ]
  },
  {
   "cell_type": "markdown",
   "metadata": {},
   "source": [
    "### We won't need the Record ID. So we'll drop that column."
   ]
  },
  {
   "cell_type": "code",
   "execution_count": 3,
   "metadata": {},
   "outputs": [],
   "source": [
    "df.drop(['Record ID'], axis = 1, inplace = True)"
   ]
  },
  {
   "cell_type": "code",
   "execution_count": 4,
   "metadata": {},
   "outputs": [
    {
     "data": {
      "text/html": [
       "<div>\n",
       "<style scoped>\n",
       "    .dataframe tbody tr th:only-of-type {\n",
       "        vertical-align: middle;\n",
       "    }\n",
       "\n",
       "    .dataframe tbody tr th {\n",
       "        vertical-align: top;\n",
       "    }\n",
       "\n",
       "    .dataframe thead th {\n",
       "        text-align: right;\n",
       "    }\n",
       "</style>\n",
       "<table border=\"1\" class=\"dataframe\">\n",
       "  <thead>\n",
       "    <tr style=\"text-align: right;\">\n",
       "      <th></th>\n",
       "      <th>City</th>\n",
       "      <th>DailyQuantity</th>\n",
       "      <th>Discount</th>\n",
       "      <th>Item</th>\n",
       "      <th>Month</th>\n",
       "      <th>Promotion</th>\n",
       "    </tr>\n",
       "  </thead>\n",
       "  <tbody>\n",
       "    <tr>\n",
       "      <td>0</td>\n",
       "      <td>Chicago</td>\n",
       "      <td>99</td>\n",
       "      <td>0.00</td>\n",
       "      <td>Pennants</td>\n",
       "      <td>01 - Jan</td>\n",
       "      <td>None</td>\n",
       "    </tr>\n",
       "    <tr>\n",
       "      <td>1</td>\n",
       "      <td>Little Rock</td>\n",
       "      <td>206</td>\n",
       "      <td>0.10</td>\n",
       "      <td>Backpacks</td>\n",
       "      <td>01 - Jan</td>\n",
       "      <td>Mail-in</td>\n",
       "    </tr>\n",
       "    <tr>\n",
       "      <td>2</td>\n",
       "      <td>New York City</td>\n",
       "      <td>225</td>\n",
       "      <td>0.15</td>\n",
       "      <td>Gloves</td>\n",
       "      <td>01 - Jan</td>\n",
       "      <td>Contest</td>\n",
       "    </tr>\n",
       "    <tr>\n",
       "      <td>3</td>\n",
       "      <td>New Haven</td>\n",
       "      <td>104</td>\n",
       "      <td>0.10</td>\n",
       "      <td>Hats</td>\n",
       "      <td>01 - Jan</td>\n",
       "      <td>Mail-in</td>\n",
       "    </tr>\n",
       "    <tr>\n",
       "      <td>4</td>\n",
       "      <td>Boston</td>\n",
       "      <td>557</td>\n",
       "      <td>0.10</td>\n",
       "      <td>Hats</td>\n",
       "      <td>01 - Jan</td>\n",
       "      <td>Mail-in</td>\n",
       "    </tr>\n",
       "  </tbody>\n",
       "</table>\n",
       "</div>"
      ],
      "text/plain": [
       "            City  DailyQuantity  Discount       Item     Month Promotion\n",
       "0        Chicago             99      0.00   Pennants  01 - Jan      None\n",
       "1    Little Rock            206      0.10  Backpacks  01 - Jan   Mail-in\n",
       "2  New York City            225      0.15     Gloves  01 - Jan   Contest\n",
       "3      New Haven            104      0.10       Hats  01 - Jan   Mail-in\n",
       "4         Boston            557      0.10       Hats  01 - Jan   Mail-in"
      ]
     },
     "execution_count": 4,
     "metadata": {},
     "output_type": "execute_result"
    }
   ],
   "source": [
    "df.head()"
   ]
  },
  {
   "cell_type": "markdown",
   "metadata": {},
   "source": [
    "### Let's understand what we're looking at better by seeing what unique values each categorical feature variable has. We'll save them as lists to use for plotting later."
   ]
  },
  {
   "cell_type": "code",
   "execution_count": 81,
   "metadata": {},
   "outputs": [
    {
     "data": {
      "text/plain": [
       "['Chicago',\n",
       " 'Little Rock',\n",
       " 'New York City',\n",
       " 'New Haven',\n",
       " 'Boston',\n",
       " 'San Francisco',\n",
       " 'Miami',\n",
       " 'Honolulu',\n",
       " 'Dallas',\n",
       " 'Detroit']"
      ]
     },
     "execution_count": 81,
     "metadata": {},
     "output_type": "execute_result"
    }
   ],
   "source": [
    "cities = list(df.City.unique())\n",
    "cities"
   ]
  },
  {
   "cell_type": "code",
   "execution_count": 83,
   "metadata": {},
   "outputs": [
    {
     "data": {
      "text/plain": [
       "['Pennants',\n",
       " 'Backpacks',\n",
       " 'Gloves',\n",
       " 'Hats',\n",
       " 'Jerseys',\n",
       " 'Scarves',\n",
       " 'Sweatshirt',\n",
       " 'Sunglasses',\n",
       " 'Polos']"
      ]
     },
     "execution_count": 83,
     "metadata": {},
     "output_type": "execute_result"
    }
   ],
   "source": [
    "items = list(df.Item.unique())\n",
    "items"
   ]
  },
  {
   "cell_type": "code",
   "execution_count": 84,
   "metadata": {},
   "outputs": [
    {
     "data": {
      "text/plain": [
       "['None', 'Mail-in', 'Contest', 'Coupon', 'Display']"
      ]
     },
     "execution_count": 84,
     "metadata": {},
     "output_type": "execute_result"
    }
   ],
   "source": [
    "promotions = list(df.Promotion.unique())\n",
    "promotions"
   ]
  },
  {
   "cell_type": "code",
   "execution_count": 85,
   "metadata": {},
   "outputs": [
    {
     "data": {
      "text/plain": [
       "['01 - Jan',\n",
       " '02 - Feb',\n",
       " '06 - Jun',\n",
       " '03 - Mar',\n",
       " '07 - Jul',\n",
       " '08 - Aug',\n",
       " '09 - Sep',\n",
       " '04 - Apr',\n",
       " '05 - May',\n",
       " '10 - Oct',\n",
       " '11 - Nov',\n",
       " '12 - Dec']"
      ]
     },
     "execution_count": 85,
     "metadata": {},
     "output_type": "execute_result"
    }
   ],
   "source": [
    "months = list(df.Month.unique())\n",
    "months"
   ]
  },
  {
   "cell_type": "markdown",
   "metadata": {},
   "source": [
    "### Let's see how many of each there are."
   ]
  },
  {
   "cell_type": "code",
   "execution_count": 9,
   "metadata": {},
   "outputs": [
    {
     "data": {
      "text/plain": [
       "Jerseys       3383\n",
       "Sweatshirt    3377\n",
       "Backpacks     3376\n",
       "Polos         3372\n",
       "Sunglasses    3371\n",
       "Scarves       3368\n",
       "Gloves        3361\n",
       "Pennants      3358\n",
       "Hats          3354\n",
       "Name: Item, dtype: int64"
      ]
     },
     "execution_count": 9,
     "metadata": {},
     "output_type": "execute_result"
    }
   ],
   "source": [
    "df['Item'].value_counts()"
   ]
  },
  {
   "cell_type": "code",
   "execution_count": 10,
   "metadata": {},
   "outputs": [
    {
     "data": {
      "text/plain": [
       "Mail-in    17367\n",
       "None        4434\n",
       "Display     3091\n",
       "Contest     3018\n",
       "Coupon      2410\n",
       "Name: Promotion, dtype: int64"
      ]
     },
     "execution_count": 10,
     "metadata": {},
     "output_type": "execute_result"
    }
   ],
   "source": [
    "df['Promotion'].value_counts()"
   ]
  },
  {
   "cell_type": "code",
   "execution_count": 11,
   "metadata": {},
   "outputs": [
    {
     "data": {
      "text/plain": [
       "01 - Jan    2783\n",
       "03 - Mar    2516\n",
       "04 - Apr    2515\n",
       "05 - May    2514\n",
       "06 - Jun    2513\n",
       "07 - Jul    2512\n",
       "08 - Aug    2511\n",
       "09 - Sep    2510\n",
       "10 - Oct    2509\n",
       "11 - Nov    2508\n",
       "12 - Dec    2507\n",
       "02 - Feb    2422\n",
       "Name: Month, dtype: int64"
      ]
     },
     "execution_count": 11,
     "metadata": {},
     "output_type": "execute_result"
    }
   ],
   "source": [
    "df['Month'].value_counts()"
   ]
  },
  {
   "cell_type": "code",
   "execution_count": 12,
   "metadata": {},
   "outputs": [
    {
     "data": {
      "text/plain": [
       "New York City    3045\n",
       "Miami            3043\n",
       "New Haven        3041\n",
       "Dallas           3041\n",
       "San Francisco    3040\n",
       "Chicago          3040\n",
       "Honolulu         3038\n",
       "Little Rock      3031\n",
       "Detroit          3012\n",
       "Boston           2989\n",
       "Name: City, dtype: int64"
      ]
     },
     "execution_count": 12,
     "metadata": {},
     "output_type": "execute_result"
    }
   ],
   "source": [
    "df['City'].value_counts()"
   ]
  },
  {
   "cell_type": "markdown",
   "metadata": {},
   "source": [
    "### And a quick summary of the numerical data:"
   ]
  },
  {
   "cell_type": "code",
   "execution_count": 13,
   "metadata": {},
   "outputs": [
    {
     "data": {
      "text/html": [
       "<div>\n",
       "<style scoped>\n",
       "    .dataframe tbody tr th:only-of-type {\n",
       "        vertical-align: middle;\n",
       "    }\n",
       "\n",
       "    .dataframe tbody tr th {\n",
       "        vertical-align: top;\n",
       "    }\n",
       "\n",
       "    .dataframe thead th {\n",
       "        text-align: right;\n",
       "    }\n",
       "</style>\n",
       "<table border=\"1\" class=\"dataframe\">\n",
       "  <thead>\n",
       "    <tr style=\"text-align: right;\">\n",
       "      <th></th>\n",
       "      <th>DailyQuantity</th>\n",
       "      <th>Discount</th>\n",
       "    </tr>\n",
       "  </thead>\n",
       "  <tbody>\n",
       "    <tr>\n",
       "      <td>count</td>\n",
       "      <td>30320.000000</td>\n",
       "      <td>30320.000000</td>\n",
       "    </tr>\n",
       "    <tr>\n",
       "      <td>mean</td>\n",
       "      <td>335.013555</td>\n",
       "      <td>0.098102</td>\n",
       "    </tr>\n",
       "    <tr>\n",
       "      <td>std</td>\n",
       "      <td>431.467426</td>\n",
       "      <td>0.062303</td>\n",
       "    </tr>\n",
       "    <tr>\n",
       "      <td>min</td>\n",
       "      <td>0.000000</td>\n",
       "      <td>0.000000</td>\n",
       "    </tr>\n",
       "    <tr>\n",
       "      <td>25%</td>\n",
       "      <td>81.000000</td>\n",
       "      <td>0.050000</td>\n",
       "    </tr>\n",
       "    <tr>\n",
       "      <td>50%</td>\n",
       "      <td>193.000000</td>\n",
       "      <td>0.100000</td>\n",
       "    </tr>\n",
       "    <tr>\n",
       "      <td>75%</td>\n",
       "      <td>418.000000</td>\n",
       "      <td>0.150000</td>\n",
       "    </tr>\n",
       "    <tr>\n",
       "      <td>max</td>\n",
       "      <td>5842.000000</td>\n",
       "      <td>0.200000</td>\n",
       "    </tr>\n",
       "  </tbody>\n",
       "</table>\n",
       "</div>"
      ],
      "text/plain": [
       "       DailyQuantity      Discount\n",
       "count   30320.000000  30320.000000\n",
       "mean      335.013555      0.098102\n",
       "std       431.467426      0.062303\n",
       "min         0.000000      0.000000\n",
       "25%        81.000000      0.050000\n",
       "50%       193.000000      0.100000\n",
       "75%       418.000000      0.150000\n",
       "max      5842.000000      0.200000"
      ]
     },
     "execution_count": 13,
     "metadata": {},
     "output_type": "execute_result"
    }
   ],
   "source": [
    "df.describe()"
   ]
  },
  {
   "cell_type": "markdown",
   "metadata": {},
   "source": [
    "### Let's see how the main attributes are correlated to the daily quantity."
   ]
  },
  {
   "cell_type": "code",
   "execution_count": 99,
   "metadata": {},
   "outputs": [
    {
     "data": {
      "text/plain": [
       "<matplotlib.axes._subplots.AxesSubplot at 0x1a28982190>"
      ]
     },
     "execution_count": 99,
     "metadata": {},
     "output_type": "execute_result"
    },
    {
     "data": {
      "image/png": "[encoded data removed]",
      "text/plain": [
       "<Figure size 720x720 with 1 Axes>"
      ]
     },
     "metadata": {
      "needs_background": "light"
     },
     "output_type": "display_data"
    }
   ],
   "source": [
    "plt.figure(figsize = (10,10))\n",
    "sns.boxplot(x = 'Item', y = 'DailyQuantity', data = df)"
   ]
  },
  {
   "cell_type": "code",
   "execution_count": 112,
   "metadata": {},
   "outputs": [
    {
     "data": {
      "text/plain": [
       "<seaborn.axisgrid.FacetGrid at 0x1a3b449150>"
      ]
     },
     "execution_count": 112,
     "metadata": {},
     "output_type": "execute_result"
    },
    {
     "data": {
      "image/png": "[encoded data removed]",
      "text/plain": [
       "<Figure size 720x360 with 1 Axes>"
      ]
     },
     "metadata": {
      "needs_background": "light"
     },
     "output_type": "display_data"
    }
   ],
   "source": [
    "sns.catplot('Item', 'DailyQuantity', data = df, height=5, aspect=2)"
   ]
  },
  {
   "cell_type": "markdown",
   "metadata": {},
   "source": [
    "### It seems that most products to similarly well on average, with a lot of overlap. So, the item won't be a good predictor variable."
   ]
  },
  {
   "cell_type": "code",
   "execution_count": 100,
   "metadata": {
    "scrolled": false
   },
   "outputs": [
    {
     "data": {
      "text/plain": [
       "<matplotlib.axes._subplots.AxesSubplot at 0x1a38c53690>"
      ]
     },
     "execution_count": 100,
     "metadata": {},
     "output_type": "execute_result"
    },
    {
     "data": {
      "image/png": "[encoded data removed]",
      "text/plain": [
       "<Figure size 576x576 with 1 Axes>"
      ]
     },
     "metadata": {
      "needs_background": "light"
     },
     "output_type": "display_data"
    }
   ],
   "source": [
    "f, ax = plt.subplots(figsize = (8, 8))\n",
    "sns.boxplot(x = 'Discount', y = 'DailyQuantity', data = df)"
   ]
  },
  {
   "cell_type": "code",
   "execution_count": 109,
   "metadata": {},
   "outputs": [
    {
     "data": {
      "image/png": "[encoded data removed]",
      "text/plain": [
       "<Figure size 360x360 with 1 Axes>"
      ]
     },
     "metadata": {
      "needs_background": "light"
     },
     "output_type": "display_data"
    }
   ],
   "source": [
    "sns.catplot('Discount', 'DailyQuantity', data = df)\n",
    "plt.show()"
   ]
  },
  {
   "cell_type": "markdown",
   "metadata": {},
   "source": [
    "### Neither will the discount."
   ]
  },
  {
   "cell_type": "code",
   "execution_count": 104,
   "metadata": {},
   "outputs": [
    {
     "data": {
      "text/plain": [
       "<matplotlib.axes._subplots.AxesSubplot at 0x1a38f14f10>"
      ]
     },
     "execution_count": 104,
     "metadata": {},
     "output_type": "execute_result"
    },
    {
     "data": {
      "image/png": "[encoded data removed]",
      "text/plain": [
       "<Figure size 864x864 with 1 Axes>"
      ]
     },
     "metadata": {
      "needs_background": "light"
     },
     "output_type": "display_data"
    }
   ],
   "source": [
    "f, ax = plt.subplots(figsize = (12, 12))\n",
    "sns.boxplot(x = 'City', y = 'DailyQuantity', data = df)"
   ]
  },
  {
   "cell_type": "markdown",
   "metadata": {},
   "source": [
    "### These overlap less, so they're better predictor variables."
   ]
  },
  {
   "cell_type": "code",
   "execution_count": 105,
   "metadata": {},
   "outputs": [
    {
     "data": {
      "text/plain": [
       "<matplotlib.axes._subplots.AxesSubplot at 0x1a39592a90>"
      ]
     },
     "execution_count": 105,
     "metadata": {},
     "output_type": "execute_result"
    },
    {
     "data": {
      "image/png": "[encoded data removed]",
      "text/plain": [
       "<Figure size 576x576 with 1 Axes>"
      ]
     },
     "metadata": {
      "needs_background": "light"
     },
     "output_type": "display_data"
    }
   ],
   "source": [
    "f, ax = plt.subplots(figsize = (8, 8))\n",
    "sns.boxplot(x = 'Promotion', y = 'DailyQuantity', data = df)"
   ]
  },
  {
   "cell_type": "code",
   "execution_count": 24,
   "metadata": {},
   "outputs": [
    {
     "data": {
      "text/plain": [
       "<seaborn.axisgrid.FacetGrid at 0x1a27239490>"
      ]
     },
     "execution_count": 24,
     "metadata": {},
     "output_type": "execute_result"
    },
    {
     "data": {
      "image/png": "[encoded data removed]",
      "text/plain": [
       "<Figure size 360x360 with 1 Axes>"
      ]
     },
     "metadata": {
      "needs_background": "light"
     },
     "output_type": "display_data"
    }
   ],
   "source": [
    "sns.catplot('Promotion', 'DailyQuantity', data = df)"
   ]
  },
  {
   "cell_type": "code",
   "execution_count": 107,
   "metadata": {},
   "outputs": [
    {
     "data": {
      "text/plain": [
       "<matplotlib.axes._subplots.AxesSubplot at 0x1a27d67d90>"
      ]
     },
     "execution_count": 107,
     "metadata": {},
     "output_type": "execute_result"
    },
    {
     "data": {
      "image/png": "[encoded data removed]",
      "text/plain": [
       "<Figure size 720x720 with 1 Axes>"
      ]
     },
     "metadata": {
      "needs_background": "light"
     },
     "output_type": "display_data"
    }
   ],
   "source": [
    "f, ax = plt.subplots(figsize = (10, 10))\n",
    "sns.boxplot(x = 'Month', y = 'DailyQuantity', data = df)"
   ]
  },
  {
   "cell_type": "code",
   "execution_count": 117,
   "metadata": {},
   "outputs": [
    {
     "data": {
      "text/plain": [
       "<seaborn.axisgrid.FacetGrid at 0x1a3cb44c90>"
      ]
     },
     "execution_count": 117,
     "metadata": {},
     "output_type": "execute_result"
    },
    {
     "data": {
      "image/png": "[encoded data removed]",
      "text/plain": [
       "<Figure size 720x360 with 1 Axes>"
      ]
     },
     "metadata": {
      "needs_background": "light"
     },
     "output_type": "display_data"
    }
   ],
   "source": [
    "sns.catplot('Month', 'DailyQuantity', data = df, height = 5, aspect = 2)"
   ]
  },
  {
   "cell_type": "markdown",
   "metadata": {},
   "source": [
    "### It seems that the best predictor variables are the City and the Month. Let's use a heatmap to see how these variables work together to determine the daily quantity."
   ]
  },
  {
   "cell_type": "code",
   "execution_count": 19,
   "metadata": {},
   "outputs": [
    {
     "data": {
      "text/html": [
       "<div>\n",
       "<style scoped>\n",
       "    .dataframe tbody tr th:only-of-type {\n",
       "        vertical-align: middle;\n",
       "    }\n",
       "\n",
       "    .dataframe tbody tr th {\n",
       "        vertical-align: top;\n",
       "    }\n",
       "\n",
       "    .dataframe thead th {\n",
       "        text-align: right;\n",
       "    }\n",
       "</style>\n",
       "<table border=\"1\" class=\"dataframe\">\n",
       "  <thead>\n",
       "    <tr style=\"text-align: right;\">\n",
       "      <th></th>\n",
       "      <th>City</th>\n",
       "      <th>Month</th>\n",
       "      <th>DailyQuantity</th>\n",
       "    </tr>\n",
       "  </thead>\n",
       "  <tbody>\n",
       "    <tr>\n",
       "      <td>0</td>\n",
       "      <td>Boston</td>\n",
       "      <td>01 - Jan</td>\n",
       "      <td>600.863799</td>\n",
       "    </tr>\n",
       "    <tr>\n",
       "      <td>1</td>\n",
       "      <td>Boston</td>\n",
       "      <td>02 - Feb</td>\n",
       "      <td>448.910569</td>\n",
       "    </tr>\n",
       "    <tr>\n",
       "      <td>2</td>\n",
       "      <td>Boston</td>\n",
       "      <td>03 - Mar</td>\n",
       "      <td>500.210317</td>\n",
       "    </tr>\n",
       "    <tr>\n",
       "      <td>3</td>\n",
       "      <td>Boston</td>\n",
       "      <td>04 - Apr</td>\n",
       "      <td>760.750000</td>\n",
       "    </tr>\n",
       "    <tr>\n",
       "      <td>4</td>\n",
       "      <td>Boston</td>\n",
       "      <td>05 - May</td>\n",
       "      <td>551.048000</td>\n",
       "    </tr>\n",
       "    <tr>\n",
       "      <td>...</td>\n",
       "      <td>...</td>\n",
       "      <td>...</td>\n",
       "      <td>...</td>\n",
       "    </tr>\n",
       "    <tr>\n",
       "      <td>115</td>\n",
       "      <td>San Francisco</td>\n",
       "      <td>08 - Aug</td>\n",
       "      <td>670.738095</td>\n",
       "    </tr>\n",
       "    <tr>\n",
       "      <td>116</td>\n",
       "      <td>San Francisco</td>\n",
       "      <td>09 - Sep</td>\n",
       "      <td>829.591270</td>\n",
       "    </tr>\n",
       "    <tr>\n",
       "      <td>117</td>\n",
       "      <td>San Francisco</td>\n",
       "      <td>10 - Oct</td>\n",
       "      <td>830.444444</td>\n",
       "    </tr>\n",
       "    <tr>\n",
       "      <td>118</td>\n",
       "      <td>San Francisco</td>\n",
       "      <td>11 - Nov</td>\n",
       "      <td>1935.809524</td>\n",
       "    </tr>\n",
       "    <tr>\n",
       "      <td>119</td>\n",
       "      <td>San Francisco</td>\n",
       "      <td>12 - Dec</td>\n",
       "      <td>1435.757937</td>\n",
       "    </tr>\n",
       "  </tbody>\n",
       "</table>\n",
       "<p>120 rows × 3 columns</p>\n",
       "</div>"
      ],
      "text/plain": [
       "              City     Month  DailyQuantity\n",
       "0           Boston  01 - Jan     600.863799\n",
       "1           Boston  02 - Feb     448.910569\n",
       "2           Boston  03 - Mar     500.210317\n",
       "3           Boston  04 - Apr     760.750000\n",
       "4           Boston  05 - May     551.048000\n",
       "..             ...       ...            ...\n",
       "115  San Francisco  08 - Aug     670.738095\n",
       "116  San Francisco  09 - Sep     829.591270\n",
       "117  San Francisco  10 - Oct     830.444444\n",
       "118  San Francisco  11 - Nov    1935.809524\n",
       "119  San Francisco  12 - Dec    1435.757937\n",
       "\n",
       "[120 rows x 3 columns]"
      ]
     },
     "execution_count": 19,
     "metadata": {},
     "output_type": "execute_result"
    }
   ],
   "source": [
    "# First we'll group the table.\n",
    "df_group = df.groupby(['City', 'Month'], as_index = False).mean()\n",
    "# We'll need to remove the Discount column\n",
    "df_group.drop('Discount', axis = 1, inplace = True)\n",
    "df_group"
   ]
  },
  {
   "cell_type": "code",
   "execution_count": 20,
   "metadata": {},
   "outputs": [
    {
     "data": {
      "text/html": [
       "<div>\n",
       "<style scoped>\n",
       "    .dataframe tbody tr th:only-of-type {\n",
       "        vertical-align: middle;\n",
       "    }\n",
       "\n",
       "    .dataframe tbody tr th {\n",
       "        vertical-align: top;\n",
       "    }\n",
       "\n",
       "    .dataframe thead tr th {\n",
       "        text-align: left;\n",
       "    }\n",
       "\n",
       "    .dataframe thead tr:last-of-type th {\n",
       "        text-align: right;\n",
       "    }\n",
       "</style>\n",
       "<table border=\"1\" class=\"dataframe\">\n",
       "  <thead>\n",
       "    <tr>\n",
       "      <th></th>\n",
       "      <th colspan=\"12\" halign=\"left\">DailyQuantity</th>\n",
       "    </tr>\n",
       "    <tr>\n",
       "      <th>Month</th>\n",
       "      <th>01 - Jan</th>\n",
       "      <th>02 - Feb</th>\n",
       "      <th>03 - Mar</th>\n",
       "      <th>04 - Apr</th>\n",
       "      <th>05 - May</th>\n",
       "      <th>06 - Jun</th>\n",
       "      <th>07 - Jul</th>\n",
       "      <th>08 - Aug</th>\n",
       "      <th>09 - Sep</th>\n",
       "      <th>10 - Oct</th>\n",
       "      <th>11 - Nov</th>\n",
       "      <th>12 - Dec</th>\n",
       "    </tr>\n",
       "    <tr>\n",
       "      <th>City</th>\n",
       "      <th></th>\n",
       "      <th></th>\n",
       "      <th></th>\n",
       "      <th></th>\n",
       "      <th></th>\n",
       "      <th></th>\n",
       "      <th></th>\n",
       "      <th></th>\n",
       "      <th></th>\n",
       "      <th></th>\n",
       "      <th></th>\n",
       "      <th></th>\n",
       "    </tr>\n",
       "  </thead>\n",
       "  <tbody>\n",
       "    <tr>\n",
       "      <td>Boston</td>\n",
       "      <td>600.863799</td>\n",
       "      <td>448.910569</td>\n",
       "      <td>500.210317</td>\n",
       "      <td>760.750000</td>\n",
       "      <td>551.048000</td>\n",
       "      <td>686.427419</td>\n",
       "      <td>571.447154</td>\n",
       "      <td>685.377049</td>\n",
       "      <td>721.156379</td>\n",
       "      <td>829.074074</td>\n",
       "      <td>1781.641975</td>\n",
       "      <td>1441.798354</td>\n",
       "    </tr>\n",
       "    <tr>\n",
       "      <td>Chicago</td>\n",
       "      <td>186.541219</td>\n",
       "      <td>146.639004</td>\n",
       "      <td>141.583333</td>\n",
       "      <td>242.650794</td>\n",
       "      <td>162.896825</td>\n",
       "      <td>232.182540</td>\n",
       "      <td>211.111111</td>\n",
       "      <td>191.242063</td>\n",
       "      <td>188.369048</td>\n",
       "      <td>240.452381</td>\n",
       "      <td>614.281746</td>\n",
       "      <td>495.210317</td>\n",
       "    </tr>\n",
       "    <tr>\n",
       "      <td>Dallas</td>\n",
       "      <td>39.559140</td>\n",
       "      <td>101.677686</td>\n",
       "      <td>30.448413</td>\n",
       "      <td>57.035714</td>\n",
       "      <td>36.634921</td>\n",
       "      <td>54.246032</td>\n",
       "      <td>37.750000</td>\n",
       "      <td>40.369048</td>\n",
       "      <td>53.154762</td>\n",
       "      <td>56.515873</td>\n",
       "      <td>103.738095</td>\n",
       "      <td>100.535714</td>\n",
       "    </tr>\n",
       "    <tr>\n",
       "      <td>Detroit</td>\n",
       "      <td>51.360294</td>\n",
       "      <td>47.903766</td>\n",
       "      <td>28.221774</td>\n",
       "      <td>66.404858</td>\n",
       "      <td>39.375000</td>\n",
       "      <td>269.056225</td>\n",
       "      <td>51.676000</td>\n",
       "      <td>69.896414</td>\n",
       "      <td>62.571429</td>\n",
       "      <td>95.880952</td>\n",
       "      <td>857.333333</td>\n",
       "      <td>188.039683</td>\n",
       "    </tr>\n",
       "    <tr>\n",
       "      <td>Honolulu</td>\n",
       "      <td>201.620072</td>\n",
       "      <td>162.682008</td>\n",
       "      <td>144.539683</td>\n",
       "      <td>244.523810</td>\n",
       "      <td>188.623016</td>\n",
       "      <td>243.714286</td>\n",
       "      <td>199.440476</td>\n",
       "      <td>226.273810</td>\n",
       "      <td>235.857143</td>\n",
       "      <td>269.615079</td>\n",
       "      <td>664.511905</td>\n",
       "      <td>539.615079</td>\n",
       "    </tr>\n",
       "    <tr>\n",
       "      <td>Little Rock</td>\n",
       "      <td>323.207885</td>\n",
       "      <td>266.991736</td>\n",
       "      <td>250.511905</td>\n",
       "      <td>400.535714</td>\n",
       "      <td>373.825397</td>\n",
       "      <td>452.746032</td>\n",
       "      <td>353.003968</td>\n",
       "      <td>356.928571</td>\n",
       "      <td>449.203187</td>\n",
       "      <td>490.760000</td>\n",
       "      <td>974.112450</td>\n",
       "      <td>806.354839</td>\n",
       "    </tr>\n",
       "    <tr>\n",
       "      <td>Miami</td>\n",
       "      <td>54.451613</td>\n",
       "      <td>46.819672</td>\n",
       "      <td>40.428571</td>\n",
       "      <td>60.515873</td>\n",
       "      <td>59.357143</td>\n",
       "      <td>70.023810</td>\n",
       "      <td>58.353175</td>\n",
       "      <td>60.015873</td>\n",
       "      <td>62.797619</td>\n",
       "      <td>81.480159</td>\n",
       "      <td>150.297619</td>\n",
       "      <td>135.789683</td>\n",
       "    </tr>\n",
       "    <tr>\n",
       "      <td>New Haven</td>\n",
       "      <td>137.537634</td>\n",
       "      <td>94.008264</td>\n",
       "      <td>100.365079</td>\n",
       "      <td>158.059524</td>\n",
       "      <td>134.007937</td>\n",
       "      <td>149.507937</td>\n",
       "      <td>104.146825</td>\n",
       "      <td>141.373016</td>\n",
       "      <td>136.388889</td>\n",
       "      <td>167.103175</td>\n",
       "      <td>311.607143</td>\n",
       "      <td>283.948413</td>\n",
       "    </tr>\n",
       "    <tr>\n",
       "      <td>New York City</td>\n",
       "      <td>273.609319</td>\n",
       "      <td>195.272358</td>\n",
       "      <td>185.821429</td>\n",
       "      <td>278.206349</td>\n",
       "      <td>251.559524</td>\n",
       "      <td>298.448413</td>\n",
       "      <td>257.293651</td>\n",
       "      <td>301.507937</td>\n",
       "      <td>318.571429</td>\n",
       "      <td>318.753968</td>\n",
       "      <td>672.698413</td>\n",
       "      <td>619.535714</td>\n",
       "    </tr>\n",
       "    <tr>\n",
       "      <td>San Francisco</td>\n",
       "      <td>496.336918</td>\n",
       "      <td>420.867220</td>\n",
       "      <td>512.992063</td>\n",
       "      <td>770.384921</td>\n",
       "      <td>513.912698</td>\n",
       "      <td>702.849206</td>\n",
       "      <td>504.503968</td>\n",
       "      <td>670.738095</td>\n",
       "      <td>829.591270</td>\n",
       "      <td>830.444444</td>\n",
       "      <td>1935.809524</td>\n",
       "      <td>1435.757937</td>\n",
       "    </tr>\n",
       "  </tbody>\n",
       "</table>\n",
       "</div>"
      ],
      "text/plain": [
       "              DailyQuantity                                                  \\\n",
       "Month              01 - Jan    02 - Feb    03 - Mar    04 - Apr    05 - May   \n",
       "City                                                                          \n",
       "Boston           600.863799  448.910569  500.210317  760.750000  551.048000   \n",
       "Chicago          186.541219  146.639004  141.583333  242.650794  162.896825   \n",
       "Dallas            39.559140  101.677686   30.448413   57.035714   36.634921   \n",
       "Detroit           51.360294   47.903766   28.221774   66.404858   39.375000   \n",
       "Honolulu         201.620072  162.682008  144.539683  244.523810  188.623016   \n",
       "Little Rock      323.207885  266.991736  250.511905  400.535714  373.825397   \n",
       "Miami             54.451613   46.819672   40.428571   60.515873   59.357143   \n",
       "New Haven        137.537634   94.008264  100.365079  158.059524  134.007937   \n",
       "New York City    273.609319  195.272358  185.821429  278.206349  251.559524   \n",
       "San Francisco    496.336918  420.867220  512.992063  770.384921  513.912698   \n",
       "\n",
       "                                                                           \\\n",
       "Month            06 - Jun    07 - Jul    08 - Aug    09 - Sep    10 - Oct   \n",
       "City                                                                        \n",
       "Boston         686.427419  571.447154  685.377049  721.156379  829.074074   \n",
       "Chicago        232.182540  211.111111  191.242063  188.369048  240.452381   \n",
       "Dallas          54.246032   37.750000   40.369048   53.154762   56.515873   \n",
       "Detroit        269.056225   51.676000   69.896414   62.571429   95.880952   \n",
       "Honolulu       243.714286  199.440476  226.273810  235.857143  269.615079   \n",
       "Little Rock    452.746032  353.003968  356.928571  449.203187  490.760000   \n",
       "Miami           70.023810   58.353175   60.015873   62.797619   81.480159   \n",
       "New Haven      149.507937  104.146825  141.373016  136.388889  167.103175   \n",
       "New York City  298.448413  257.293651  301.507937  318.571429  318.753968   \n",
       "San Francisco  702.849206  504.503968  670.738095  829.591270  830.444444   \n",
       "\n",
       "                                         \n",
       "Month             11 - Nov     12 - Dec  \n",
       "City                                     \n",
       "Boston         1781.641975  1441.798354  \n",
       "Chicago         614.281746   495.210317  \n",
       "Dallas          103.738095   100.535714  \n",
       "Detroit         857.333333   188.039683  \n",
       "Honolulu        664.511905   539.615079  \n",
       "Little Rock     974.112450   806.354839  \n",
       "Miami           150.297619   135.789683  \n",
       "New Haven       311.607143   283.948413  \n",
       "New York City   672.698413   619.535714  \n",
       "San Francisco  1935.809524  1435.757937  "
      ]
     },
     "execution_count": 20,
     "metadata": {},
     "output_type": "execute_result"
    }
   ],
   "source": [
    "# Now we'll use City as the index and pivot Month to become a row.\n",
    "df_pivot = df_group.pivot(index = 'City', columns = 'Month')\n",
    "df_pivot"
   ]
  },
  {
   "cell_type": "code",
   "execution_count": 96,
   "metadata": {},
   "outputs": [
    {
     "data": {
      "image/png": "[encoded data removed]",
      "text/plain": [
       "<Figure size 576x576 with 2 Axes>"
      ]
     },
     "metadata": {
      "needs_background": "light"
     },
     "output_type": "display_data"
    }
   ],
   "source": [
    "# Plot heatmap\n",
    "f, ax = plt.subplots(figsize = (8, 8))\n",
    "ax.set_xticklabels(cities)\n",
    "ax.set_yticklabels(months)\n",
    "plt.pcolor(df_pivot, cmap = 'RdBu')\n",
    "plt.colorbar()\n",
    "plt.show()"
   ]
  },
  {
   "cell_type": "markdown",
   "metadata": {},
   "source": [
    "### We can see that the highest daily quantities occur in November and December, mostly at Boston and San Francisco and medium values at Little Rock and Detroit."
   ]
  },
  {
   "cell_type": "code",
   "execution_count": 25,
   "metadata": {},
   "outputs": [
    {
     "data": {
      "text/html": [
       "<div>\n",
       "<style scoped>\n",
       "    .dataframe tbody tr th:only-of-type {\n",
       "        vertical-align: middle;\n",
       "    }\n",
       "\n",
       "    .dataframe tbody tr th {\n",
       "        vertical-align: top;\n",
       "    }\n",
       "\n",
       "    .dataframe thead th {\n",
       "        text-align: right;\n",
       "    }\n",
       "</style>\n",
       "<table border=\"1\" class=\"dataframe\">\n",
       "  <thead>\n",
       "    <tr style=\"text-align: right;\">\n",
       "      <th></th>\n",
       "      <th>DailyQuantity</th>\n",
       "      <th>Discount</th>\n",
       "      <th>City_Boston</th>\n",
       "      <th>City_Chicago</th>\n",
       "      <th>City_Dallas</th>\n",
       "      <th>City_Detroit</th>\n",
       "      <th>City_Honolulu</th>\n",
       "      <th>City_Little Rock</th>\n",
       "      <th>City_Miami</th>\n",
       "      <th>City_New Haven</th>\n",
       "      <th>...</th>\n",
       "      <th>Month_08 - Aug</th>\n",
       "      <th>Month_09 - Sep</th>\n",
       "      <th>Month_10 - Oct</th>\n",
       "      <th>Month_11 - Nov</th>\n",
       "      <th>Month_12 - Dec</th>\n",
       "      <th>Promotion_Contest</th>\n",
       "      <th>Promotion_Coupon</th>\n",
       "      <th>Promotion_Display</th>\n",
       "      <th>Promotion_Mail-in</th>\n",
       "      <th>Promotion_None</th>\n",
       "    </tr>\n",
       "  </thead>\n",
       "  <tbody>\n",
       "    <tr>\n",
       "      <td>count</td>\n",
       "      <td>30320.000000</td>\n",
       "      <td>30320.000000</td>\n",
       "      <td>30320.000000</td>\n",
       "      <td>30320.000000</td>\n",
       "      <td>30320.000000</td>\n",
       "      <td>30320.000000</td>\n",
       "      <td>30320.000000</td>\n",
       "      <td>30320.000000</td>\n",
       "      <td>30320.000000</td>\n",
       "      <td>30320.000000</td>\n",
       "      <td>...</td>\n",
       "      <td>30320.000000</td>\n",
       "      <td>30320.000000</td>\n",
       "      <td>30320.000000</td>\n",
       "      <td>30320.000000</td>\n",
       "      <td>30320.000000</td>\n",
       "      <td>30320.000000</td>\n",
       "      <td>30320.000000</td>\n",
       "      <td>30320.000000</td>\n",
       "      <td>30320.000000</td>\n",
       "      <td>30320.000000</td>\n",
       "    </tr>\n",
       "    <tr>\n",
       "      <td>mean</td>\n",
       "      <td>335.013555</td>\n",
       "      <td>0.098102</td>\n",
       "      <td>0.098582</td>\n",
       "      <td>0.100264</td>\n",
       "      <td>0.100297</td>\n",
       "      <td>0.099340</td>\n",
       "      <td>0.100198</td>\n",
       "      <td>0.099967</td>\n",
       "      <td>0.100363</td>\n",
       "      <td>0.100297</td>\n",
       "      <td>...</td>\n",
       "      <td>0.082817</td>\n",
       "      <td>0.082784</td>\n",
       "      <td>0.082751</td>\n",
       "      <td>0.082718</td>\n",
       "      <td>0.082685</td>\n",
       "      <td>0.099538</td>\n",
       "      <td>0.079485</td>\n",
       "      <td>0.101946</td>\n",
       "      <td>0.572790</td>\n",
       "      <td>0.146240</td>\n",
       "    </tr>\n",
       "    <tr>\n",
       "      <td>std</td>\n",
       "      <td>431.467426</td>\n",
       "      <td>0.062303</td>\n",
       "      <td>0.298105</td>\n",
       "      <td>0.300356</td>\n",
       "      <td>0.300400</td>\n",
       "      <td>0.299123</td>\n",
       "      <td>0.300269</td>\n",
       "      <td>0.299961</td>\n",
       "      <td>0.300488</td>\n",
       "      <td>0.300400</td>\n",
       "      <td>...</td>\n",
       "      <td>0.275609</td>\n",
       "      <td>0.275559</td>\n",
       "      <td>0.275510</td>\n",
       "      <td>0.275460</td>\n",
       "      <td>0.275410</td>\n",
       "      <td>0.299388</td>\n",
       "      <td>0.270499</td>\n",
       "      <td>0.302582</td>\n",
       "      <td>0.494681</td>\n",
       "      <td>0.353353</td>\n",
       "    </tr>\n",
       "    <tr>\n",
       "      <td>min</td>\n",
       "      <td>0.000000</td>\n",
       "      <td>0.000000</td>\n",
       "      <td>0.000000</td>\n",
       "      <td>0.000000</td>\n",
       "      <td>0.000000</td>\n",
       "      <td>0.000000</td>\n",
       "      <td>0.000000</td>\n",
       "      <td>0.000000</td>\n",
       "      <td>0.000000</td>\n",
       "      <td>0.000000</td>\n",
       "      <td>...</td>\n",
       "      <td>0.000000</td>\n",
       "      <td>0.000000</td>\n",
       "      <td>0.000000</td>\n",
       "      <td>0.000000</td>\n",
       "      <td>0.000000</td>\n",
       "      <td>0.000000</td>\n",
       "      <td>0.000000</td>\n",
       "      <td>0.000000</td>\n",
       "      <td>0.000000</td>\n",
       "      <td>0.000000</td>\n",
       "    </tr>\n",
       "    <tr>\n",
       "      <td>25%</td>\n",
       "      <td>81.000000</td>\n",
       "      <td>0.050000</td>\n",
       "      <td>0.000000</td>\n",
       "      <td>0.000000</td>\n",
       "      <td>0.000000</td>\n",
       "      <td>0.000000</td>\n",
       "      <td>0.000000</td>\n",
       "      <td>0.000000</td>\n",
       "      <td>0.000000</td>\n",
       "      <td>0.000000</td>\n",
       "      <td>...</td>\n",
       "      <td>0.000000</td>\n",
       "      <td>0.000000</td>\n",
       "      <td>0.000000</td>\n",
       "      <td>0.000000</td>\n",
       "      <td>0.000000</td>\n",
       "      <td>0.000000</td>\n",
       "      <td>0.000000</td>\n",
       "      <td>0.000000</td>\n",
       "      <td>0.000000</td>\n",
       "      <td>0.000000</td>\n",
       "    </tr>\n",
       "    <tr>\n",
       "      <td>50%</td>\n",
       "      <td>193.000000</td>\n",
       "      <td>0.100000</td>\n",
       "      <td>0.000000</td>\n",
       "      <td>0.000000</td>\n",
       "      <td>0.000000</td>\n",
       "      <td>0.000000</td>\n",
       "      <td>0.000000</td>\n",
       "      <td>0.000000</td>\n",
       "      <td>0.000000</td>\n",
       "      <td>0.000000</td>\n",
       "      <td>...</td>\n",
       "      <td>0.000000</td>\n",
       "      <td>0.000000</td>\n",
       "      <td>0.000000</td>\n",
       "      <td>0.000000</td>\n",
       "      <td>0.000000</td>\n",
       "      <td>0.000000</td>\n",
       "      <td>0.000000</td>\n",
       "      <td>0.000000</td>\n",
       "      <td>1.000000</td>\n",
       "      <td>0.000000</td>\n",
       "    </tr>\n",
       "    <tr>\n",
       "      <td>75%</td>\n",
       "      <td>418.000000</td>\n",
       "      <td>0.150000</td>\n",
       "      <td>0.000000</td>\n",
       "      <td>0.000000</td>\n",
       "      <td>0.000000</td>\n",
       "      <td>0.000000</td>\n",
       "      <td>0.000000</td>\n",
       "      <td>0.000000</td>\n",
       "      <td>0.000000</td>\n",
       "      <td>0.000000</td>\n",
       "      <td>...</td>\n",
       "      <td>0.000000</td>\n",
       "      <td>0.000000</td>\n",
       "      <td>0.000000</td>\n",
       "      <td>0.000000</td>\n",
       "      <td>0.000000</td>\n",
       "      <td>0.000000</td>\n",
       "      <td>0.000000</td>\n",
       "      <td>0.000000</td>\n",
       "      <td>1.000000</td>\n",
       "      <td>0.000000</td>\n",
       "    </tr>\n",
       "    <tr>\n",
       "      <td>max</td>\n",
       "      <td>5842.000000</td>\n",
       "      <td>0.200000</td>\n",
       "      <td>1.000000</td>\n",
       "      <td>1.000000</td>\n",
       "      <td>1.000000</td>\n",
       "      <td>1.000000</td>\n",
       "      <td>1.000000</td>\n",
       "      <td>1.000000</td>\n",
       "      <td>1.000000</td>\n",
       "      <td>1.000000</td>\n",
       "      <td>...</td>\n",
       "      <td>1.000000</td>\n",
       "      <td>1.000000</td>\n",
       "      <td>1.000000</td>\n",
       "      <td>1.000000</td>\n",
       "      <td>1.000000</td>\n",
       "      <td>1.000000</td>\n",
       "      <td>1.000000</td>\n",
       "      <td>1.000000</td>\n",
       "      <td>1.000000</td>\n",
       "      <td>1.000000</td>\n",
       "    </tr>\n",
       "  </tbody>\n",
       "</table>\n",
       "<p>8 rows × 38 columns</p>\n",
       "</div>"
      ],
      "text/plain": [
       "       DailyQuantity      Discount   City_Boston  City_Chicago   City_Dallas  \\\n",
       "count   30320.000000  30320.000000  30320.000000  30320.000000  30320.000000   \n",
       "mean      335.013555      0.098102      0.098582      0.100264      0.100297   \n",
       "std       431.467426      0.062303      0.298105      0.300356      0.300400   \n",
       "min         0.000000      0.000000      0.000000      0.000000      0.000000   \n",
       "25%        81.000000      0.050000      0.000000      0.000000      0.000000   \n",
       "50%       193.000000      0.100000      0.000000      0.000000      0.000000   \n",
       "75%       418.000000      0.150000      0.000000      0.000000      0.000000   \n",
       "max      5842.000000      0.200000      1.000000      1.000000      1.000000   \n",
       "\n",
       "       City_Detroit  City_Honolulu  City_Little Rock    City_Miami  \\\n",
       "count  30320.000000   30320.000000      30320.000000  30320.000000   \n",
       "mean       0.099340       0.100198          0.099967      0.100363   \n",
       "std        0.299123       0.300269          0.299961      0.300488   \n",
       "min        0.000000       0.000000          0.000000      0.000000   \n",
       "25%        0.000000       0.000000          0.000000      0.000000   \n",
       "50%        0.000000       0.000000          0.000000      0.000000   \n",
       "75%        0.000000       0.000000          0.000000      0.000000   \n",
       "max        1.000000       1.000000          1.000000      1.000000   \n",
       "\n",
       "       City_New Haven  ...  Month_08 - Aug  Month_09 - Sep  Month_10 - Oct  \\\n",
       "count    30320.000000  ...    30320.000000    30320.000000    30320.000000   \n",
       "mean         0.100297  ...        0.082817        0.082784        0.082751   \n",
       "std          0.300400  ...        0.275609        0.275559        0.275510   \n",
       "min          0.000000  ...        0.000000        0.000000        0.000000   \n",
       "25%          0.000000  ...        0.000000        0.000000        0.000000   \n",
       "50%          0.000000  ...        0.000000        0.000000        0.000000   \n",
       "75%          0.000000  ...        0.000000        0.000000        0.000000   \n",
       "max          1.000000  ...        1.000000        1.000000        1.000000   \n",
       "\n",
       "       Month_11 - Nov  Month_12 - Dec  Promotion_Contest  Promotion_Coupon  \\\n",
       "count    30320.000000    30320.000000       30320.000000      30320.000000   \n",
       "mean         0.082718        0.082685           0.099538          0.079485   \n",
       "std          0.275460        0.275410           0.299388          0.270499   \n",
       "min          0.000000        0.000000           0.000000          0.000000   \n",
       "25%          0.000000        0.000000           0.000000          0.000000   \n",
       "50%          0.000000        0.000000           0.000000          0.000000   \n",
       "75%          0.000000        0.000000           0.000000          0.000000   \n",
       "max          1.000000        1.000000           1.000000          1.000000   \n",
       "\n",
       "       Promotion_Display  Promotion_Mail-in  Promotion_None  \n",
       "count       30320.000000       30320.000000    30320.000000  \n",
       "mean            0.101946           0.572790        0.146240  \n",
       "std             0.302582           0.494681        0.353353  \n",
       "min             0.000000           0.000000        0.000000  \n",
       "25%             0.000000           0.000000        0.000000  \n",
       "50%             0.000000           1.000000        0.000000  \n",
       "75%             0.000000           1.000000        0.000000  \n",
       "max             1.000000           1.000000        1.000000  \n",
       "\n",
       "[8 rows x 38 columns]"
      ]
     },
     "execution_count": 25,
     "metadata": {},
     "output_type": "execute_result"
    }
   ],
   "source": [
    "oneHot = pd.get_dummies(df)\n",
    "oneHot.describe()"
   ]
  },
  {
   "cell_type": "code",
   "execution_count": 26,
   "metadata": {},
   "outputs": [],
   "source": [
    "# Let's separate our feature and target variables.\n",
    "x_data = oneHot.drop(['DailyQuantity'], axis = 1)\n",
    "y_data = oneHot['DailyQuantity']\n",
    "\n",
    "# Now we'll split them into training and testing sets with four folds.\n",
    "x_train, x_test, y_train, y_test = train_test_split(x_data, y_data, test_size = 0.25, random_state = 0)"
   ]
  },
  {
   "cell_type": "code",
   "execution_count": 27,
   "metadata": {},
   "outputs": [
    {
     "data": {
      "text/plain": [
       "0.5663268340158112"
      ]
     },
     "execution_count": 27,
     "metadata": {},
     "output_type": "execute_result"
    }
   ],
   "source": [
    "# Now we'll create a linear regression model.\n",
    "mlr = LinearRegression()\n",
    "# Fit the multiple linear regression model.\n",
    "mlr.fit(x_train, y_train)\n",
    "# Now we can evaluate the R-sqared score using the test data.\n",
    "mlr.score(x_test, y_test)"
   ]
  },
  {
   "cell_type": "markdown",
   "metadata": {},
   "source": [
    "### The R-squared score is low and these coefficient values are high. Let's use ridge regression to try to better fit the model and grid search to compare values of alpha in the ridge regression."
   ]
  },
  {
   "cell_type": "code",
   "execution_count": 29,
   "metadata": {},
   "outputs": [
    {
     "data": {
      "text/plain": [
       "0.5657297227468595"
      ]
     },
     "execution_count": 29,
     "metadata": {},
     "output_type": "execute_result"
    }
   ],
   "source": [
    "# list of alpha values to try in ridge regression\n",
    "parameters1= [{'alpha': [0.001,0.1,1, 10, 100, 1000, 10000, 100000, 100000]}]\n",
    "# create ridge regression object\n",
    "RR=Ridge()\n",
    "# create grid search object with 4 folds\n",
    "Grid1 = GridSearchCV(RR, parameters1,cv=4)\n",
    "# fit the model\n",
    "Grid1.fit(x_data, y_data)\n",
    "# select the model with the best value of alpha\n",
    "BestRR = Grid1.best_estimator_\n",
    "# test the model\n",
    "BestRR.score(x_test, y_test)"
   ]
  },
  {
   "cell_type": "markdown",
   "metadata": {},
   "source": [
    "### Using multiple linear regression gives a low R-squared value. Let's see if we can gain more insight by looking at one feature at at time. I think the best way to focus sales is to focus on one product at a time. So let's first pull out all the pennants.\n"
   ]
  },
  {
   "cell_type": "code",
   "execution_count": 30,
   "metadata": {},
   "outputs": [
    {
     "data": {
      "text/html": [
       "<div>\n",
       "<style scoped>\n",
       "    .dataframe tbody tr th:only-of-type {\n",
       "        vertical-align: middle;\n",
       "    }\n",
       "\n",
       "    .dataframe tbody tr th {\n",
       "        vertical-align: top;\n",
       "    }\n",
       "\n",
       "    .dataframe thead th {\n",
       "        text-align: right;\n",
       "    }\n",
       "</style>\n",
       "<table border=\"1\" class=\"dataframe\">\n",
       "  <thead>\n",
       "    <tr style=\"text-align: right;\">\n",
       "      <th></th>\n",
       "      <th>City</th>\n",
       "      <th>DailyQuantity</th>\n",
       "      <th>Discount</th>\n",
       "      <th>Item</th>\n",
       "      <th>Month</th>\n",
       "      <th>Promotion</th>\n",
       "    </tr>\n",
       "  </thead>\n",
       "  <tbody>\n",
       "    <tr>\n",
       "      <td>0</td>\n",
       "      <td>Chicago</td>\n",
       "      <td>99</td>\n",
       "      <td>0.00</td>\n",
       "      <td>Pennants</td>\n",
       "      <td>01 - Jan</td>\n",
       "      <td>None</td>\n",
       "    </tr>\n",
       "    <tr>\n",
       "      <td>8</td>\n",
       "      <td>Miami</td>\n",
       "      <td>44</td>\n",
       "      <td>0.20</td>\n",
       "      <td>Pennants</td>\n",
       "      <td>01 - Jan</td>\n",
       "      <td>Mail-in</td>\n",
       "    </tr>\n",
       "    <tr>\n",
       "      <td>12</td>\n",
       "      <td>Chicago</td>\n",
       "      <td>164</td>\n",
       "      <td>0.00</td>\n",
       "      <td>Pennants</td>\n",
       "      <td>01 - Jan</td>\n",
       "      <td>None</td>\n",
       "    </tr>\n",
       "    <tr>\n",
       "      <td>23</td>\n",
       "      <td>San Francisco</td>\n",
       "      <td>466</td>\n",
       "      <td>0.00</td>\n",
       "      <td>Pennants</td>\n",
       "      <td>01 - Jan</td>\n",
       "      <td>None</td>\n",
       "    </tr>\n",
       "    <tr>\n",
       "      <td>39</td>\n",
       "      <td>Dallas</td>\n",
       "      <td>28</td>\n",
       "      <td>0.05</td>\n",
       "      <td>Pennants</td>\n",
       "      <td>01 - Jan</td>\n",
       "      <td>Mail-in</td>\n",
       "    </tr>\n",
       "  </tbody>\n",
       "</table>\n",
       "</div>"
      ],
      "text/plain": [
       "             City  DailyQuantity  Discount      Item     Month Promotion\n",
       "0         Chicago             99      0.00  Pennants  01 - Jan      None\n",
       "8           Miami             44      0.20  Pennants  01 - Jan   Mail-in\n",
       "12        Chicago            164      0.00  Pennants  01 - Jan      None\n",
       "23  San Francisco            466      0.00  Pennants  01 - Jan      None\n",
       "39         Dallas             28      0.05  Pennants  01 - Jan   Mail-in"
      ]
     },
     "execution_count": 30,
     "metadata": {},
     "output_type": "execute_result"
    }
   ],
   "source": [
    "Pennants = df[df['Item'] == 'Pennants']\n",
    "Pennants.head()"
   ]
  },
  {
   "cell_type": "code",
   "execution_count": 31,
   "metadata": {},
   "outputs": [],
   "source": [
    "Pen2Var = Pennants[['DailyQuantity', 'Discount', 'Promotion']]\n",
    "PenOneHot = pd.get_dummies(Pen2Var)"
   ]
  },
  {
   "cell_type": "markdown",
   "metadata": {},
   "source": [
    "### Let's create a simpler linear model with less parameters to gain more insight as to how each effects them. The most important parameters for the client are those easiest for them to control, the Promotion and the Discount."
   ]
  },
  {
   "cell_type": "code",
   "execution_count": 32,
   "metadata": {},
   "outputs": [
    {
     "data": {
      "text/plain": [
       "0.054777315862662324"
      ]
     },
     "execution_count": 32,
     "metadata": {},
     "output_type": "execute_result"
    }
   ],
   "source": [
    "lm = LinearRegression()\n",
    "\n",
    "# Let's separate our feature and target variables.\n",
    "x_data = PenOneHot.drop(['DailyQuantity'], axis = 1)\n",
    "y_data = PenOneHot['DailyQuantity']\n",
    "\n",
    "# Now we'll split them into training and testing sets with four folds.\n",
    "x_train, x_test, y_train, y_test = train_test_split(x_data, y_data, test_size = 0.25, random_state = 0)\n",
    "# Now we'll create a linear regression model.\n",
    "mlr = LinearRegression()\n",
    "# Fit the multiple linear regression model.\n",
    "mlr.fit(x_train, y_train)\n",
    "# Now we can evaluate the R-sqared score using the test data.\n",
    "mlr.score(x_test, y_test)"
   ]
  },
  {
   "cell_type": "markdown",
   "metadata": {},
   "source": [
    "### Let's try a simpler model using Month and City."
   ]
  },
  {
   "cell_type": "code",
   "execution_count": 38,
   "metadata": {},
   "outputs": [],
   "source": [
    "df4 = df[['City', 'Month', 'DailyQuantity']]\n",
    "df4OneHot = pd.get_dummies(df4)"
   ]
  },
  {
   "cell_type": "code",
   "execution_count": 39,
   "metadata": {},
   "outputs": [
    {
     "data": {
      "text/plain": [
       "0.5246974032988486"
      ]
     },
     "execution_count": 39,
     "metadata": {},
     "output_type": "execute_result"
    }
   ],
   "source": [
    "# Reassign x and y data\n",
    "x_data = df4OneHot.drop('DailyQuantity', axis = 1)\n",
    "y_data = df4OneHot['DailyQuantity']\n",
    "# Now we'll split them into training and testing sets with four folds.\n",
    "x_train, x_test, y_train, y_test = train_test_split(x_data, y_data, test_size = 0.25, random_state = 0)\n",
    "# Now we'll create a linear regression model.\n",
    "mlr = LinearRegression()\n",
    "# Fit the multiple linear regression model.\n",
    "mlr.fit(x_train, y_train)\n",
    "# Now we can evaluate the R-sqared score using the test data.\n",
    "mlr.score(x_test, y_test)"
   ]
  },
  {
   "cell_type": "code",
   "execution_count": 41,
   "metadata": {},
   "outputs": [
    {
     "data": {
      "text/plain": [
       "0.5243342506444097"
      ]
     },
     "execution_count": 41,
     "metadata": {},
     "output_type": "execute_result"
    }
   ],
   "source": [
    "# list of alpha values to try in ridge regression\n",
    "parameters1= [{'alpha': [0.001,0.1,1, 10, 100, 1000, 10000, 100000, 100000]}]\n",
    "# create ridge regression object\n",
    "RR=Ridge()\n",
    "# create grid search object with 4 folds\n",
    "Grid1 = GridSearchCV(RR, parameters1,cv=4)\n",
    "# fit the model\n",
    "Grid1.fit(x_data, y_data)\n",
    "# select the model with the best value of alpha\n",
    "BestRR = Grid1.best_estimator_\n",
    "# test the model\n",
    "BestRR.score(x_test, y_test)"
   ]
  },
  {
   "cell_type": "code",
   "execution_count": 48,
   "metadata": {},
   "outputs": [
    {
     "data": {
      "text/plain": [
       "0.5247933798330241"
      ]
     },
     "execution_count": 48,
     "metadata": {},
     "output_type": "execute_result"
    }
   ],
   "source": [
    "df5 = df[['Month', 'City', 'DailyQuantity']]\n",
    "df5X = df[['Month', 'City']]\n",
    "x_data = pd.get_dummies(df5X)\n",
    "y_data = df5['DailyQuantity']\n",
    "# Now we'll split them into training and testing sets with four folds.\n",
    "x_train, x_test, y_train, y_test = train_test_split(x_data, y_data, test_size = 0.25, random_state = 0)\n",
    "# Now we'll create a linear regression model.\n",
    "mlr = LinearRegression()\n",
    "# Fit the multiple linear regression model.\n",
    "mlr.fit(x_train, y_train)\n",
    "# Now we can evaluate the R-sqared score using the test data.\n",
    "mlr.score(x_test, y_test)"
   ]
  },
  {
   "cell_type": "markdown",
   "metadata": {},
   "source": [
    "### As these parameters have the highest correlation to daily quantity, let's try this per product."
   ]
  },
  {
   "cell_type": "code",
   "execution_count": 49,
   "metadata": {},
   "outputs": [],
   "source": [
    "Pennants = df[df['Item'] == 'Pennants']\n",
    "Pen2Var = Pennants[['DailyQuantity', 'Month', 'City']]\n",
    "PenOneHot = pd.get_dummies(Pen2Var)"
   ]
  },
  {
   "cell_type": "code",
   "execution_count": 50,
   "metadata": {},
   "outputs": [
    {
     "data": {
      "text/plain": [
       "0.5808289279962784"
      ]
     },
     "execution_count": 50,
     "metadata": {},
     "output_type": "execute_result"
    }
   ],
   "source": [
    "# Backpacks \n",
    "temp = df[df['Item'] == 'Backpacks']\n",
    "temp2Var = temp[['DailyQuantity', 'Month', 'City']]\n",
    "tempOneHot = pd.get_dummies(temp2Var)\n",
    "x_data = tempOneHot.drop('DailyQuantity', axis = 1)\n",
    "y_data = tempOneHot['DailyQuantity']\n",
    "# Now we'll split them into training and testing sets with four folds.\n",
    "x_train, x_test, y_train, y_test = train_test_split(x_data, y_data, test_size = 0.25, random_state = 0)\n",
    "# Now we'll create a linear regression model.\n",
    "mlr = LinearRegression()\n",
    "# Fit the multiple linear regression model.\n",
    "mlr.fit(x_train, y_train)\n",
    "# Now we can evaluate the R-sqared score using the test data.\n",
    "mlr.score(x_test, y_test)"
   ]
  },
  {
   "cell_type": "code",
   "execution_count": 51,
   "metadata": {},
   "outputs": [
    {
     "data": {
      "text/plain": [
       "0.5538559170755523"
      ]
     },
     "execution_count": 51,
     "metadata": {},
     "output_type": "execute_result"
    }
   ],
   "source": [
    "# Gloves \n",
    "temp = df[df['Item'] == 'Gloves']\n",
    "temp2Var = temp[['DailyQuantity', 'Month', 'City']]\n",
    "tempOneHot = pd.get_dummies(temp2Var)\n",
    "x_data = tempOneHot.drop('DailyQuantity', axis = 1)\n",
    "y_data = tempOneHot['DailyQuantity']\n",
    "# Now we'll split them into training and testing sets with four folds.\n",
    "x_train, x_test, y_train, y_test = train_test_split(x_data, y_data, test_size = 0.25, random_state = 0)\n",
    "# Now we'll create a linear regression model.\n",
    "mlr = LinearRegression()\n",
    "# Fit the multiple linear regression model.\n",
    "mlr.fit(x_train, y_train)\n",
    "# Now we can evaluate the R-sqared score using the test data.\n",
    "mlr.score(x_test, y_test)"
   ]
  },
  {
   "cell_type": "code",
   "execution_count": 52,
   "metadata": {},
   "outputs": [
    {
     "data": {
      "text/plain": [
       "0.574045902619807"
      ]
     },
     "execution_count": 52,
     "metadata": {},
     "output_type": "execute_result"
    }
   ],
   "source": [
    "# Hats \n",
    "temp = df[df['Item'] == 'Hats']\n",
    "temp2Var = temp[['DailyQuantity', 'Month', 'City']]\n",
    "tempOneHot = pd.get_dummies(temp2Var)\n",
    "x_data = tempOneHot.drop('DailyQuantity', axis = 1)\n",
    "y_data = tempOneHot['DailyQuantity']\n",
    "# Now we'll split them into training and testing sets with four folds.\n",
    "x_train, x_test, y_train, y_test = train_test_split(x_data, y_data, test_size = 0.25, random_state = 0)\n",
    "# Now we'll create a linear regression model.\n",
    "mlr = LinearRegression()\n",
    "# Fit the multiple linear regression model.\n",
    "mlr.fit(x_train, y_train)\n",
    "# Now we can evaluate the R-sqared score using the test data.\n",
    "mlr.score(x_test, y_test)"
   ]
  },
  {
   "cell_type": "markdown",
   "metadata": {},
   "source": [
    "### These results are all similar. Let's try univariate analysis."
   ]
  },
  {
   "cell_type": "code",
   "execution_count": 53,
   "metadata": {},
   "outputs": [
    {
     "data": {
      "text/plain": [
       "0.4478382520106544"
      ]
     },
     "execution_count": 53,
     "metadata": {},
     "output_type": "execute_result"
    }
   ],
   "source": [
    "temp = df[df['Item'] == 'Pennants']\n",
    "temp2Var = temp[['DailyQuantity', 'City']]\n",
    "tempOneHot = pd.get_dummies(temp2Var)\n",
    "x_data = tempOneHot.drop('DailyQuantity', axis = 1)\n",
    "y_data = tempOneHot['DailyQuantity']\n",
    "# Now we'll split them into training and testing sets with four folds.\n",
    "x_train, x_test, y_train, y_test = train_test_split(x_data, y_data, test_size = 0.25, random_state = 0)\n",
    "# Now we'll create a linear regression model.\n",
    "mlr = LinearRegression()\n",
    "# Fit the multiple linear regression model.\n",
    "mlr.fit(x_train, y_train)\n",
    "# Now we can evaluate the R-sqared score using the test data.\n",
    "mlr.score(x_test, y_test)"
   ]
  },
  {
   "cell_type": "markdown",
   "metadata": {},
   "source": [
    "### Let's see if we get better results using a polynomial regression."
   ]
  },
  {
   "cell_type": "code",
   "execution_count": 54,
   "metadata": {},
   "outputs": [],
   "source": [
    "oneHot = pd.get_dummies(df)\n",
    "# Let's separate our feature and target variables.\n",
    "x_data = oneHot.drop(['DailyQuantity'], axis = 1)\n",
    "y_data = oneHot['DailyQuantity']\n",
    "\n",
    "# Now we'll split them into training and testing sets with four folds.\n",
    "x_train, x_test, y_train, y_test = train_test_split(x_data, y_data, test_size = 0.25, random_state = 0)"
   ]
  },
  {
   "cell_type": "code",
   "execution_count": 55,
   "metadata": {},
   "outputs": [
    {
     "data": {
      "text/plain": [
       "0.7772063456783319"
      ]
     },
     "execution_count": 55,
     "metadata": {},
     "output_type": "execute_result"
    }
   ],
   "source": [
    "# Now we'll create a polynomial regression model.\n",
    "poly = PolynomialFeatures(degree = 2)\n",
    "train_x_poly = poly.fit_transform(x_train)\n",
    "lm = skl.linear_model.LinearRegression()\n",
    "train_y_ = lm.fit(train_x_poly, y_train)\n",
    "test_x_poly = poly.fit_transform(x_test)\n",
    "Yhat = lm.predict(test_x_poly)\n",
    "r2_score(Yhat, y_test)"
   ]
  },
  {
   "cell_type": "markdown",
   "metadata": {},
   "source": [
    "### This is much better. The R-squared score of .78 is close to Einstein's 0.80. Let's play around with the order of the polynomials to see if we can get it higher than Einstein's."
   ]
  },
  {
   "cell_type": "markdown",
   "metadata": {},
   "source": [
    "### With a dataset of this size, the kernal takes impractically long to execute with degree higher than 2. So we'll use a subset of the data to find the optimal order polynomial and then train that on the whole dataset."
   ]
  },
  {
   "cell_type": "code",
   "execution_count": 60,
   "metadata": {},
   "outputs": [
    {
     "data": {
      "text/plain": [
       "[0.7770811615006417, -0.0003453099430121842, -0.005113796607351562]"
      ]
     },
     "execution_count": 60,
     "metadata": {},
     "output_type": "execute_result"
    }
   ],
   "source": [
    "oneHot = pd.get_dummies(df)\n",
    "subset = oneHot.head(2000)\n",
    "# Let's separate our feature and target variables.\n",
    "x_data = subset.drop(['DailyQuantity'], axis = 1)\n",
    "y_data = subset['DailyQuantity']\n",
    "\n",
    "# Now we'll split them into training and testing sets with four folds.\n",
    "x_train, x_test, y_train, y_test = train_test_split(x_data, y_data, test_size = 0.25, random_state = 0)\n",
    "\n",
    "# Empty list for R-squared values\n",
    "r2s = []\n",
    "for i in range(2, 5):\n",
    "    poly = PolynomialFeatures(degree = i)\n",
    "    train_x_poly = poly.fit_transform(x_train)\n",
    "    lm = skl.linear_model.LinearRegression()\n",
    "    train_y_ = lm.fit(train_x_poly, y_train)\n",
    "    test_x_poly = poly.fit_transform(x_test)\n",
    "    Yhat = lm.predict(test_x_poly)\n",
    "    r2s.append(r2_score(Yhat, y_test))\n",
    "    \n",
    "r2s"
   ]
  },
  {
   "cell_type": "markdown",
   "metadata": {},
   "source": [
    "### It seems the first guess was the best. Let's stick with that."
   ]
  },
  {
   "cell_type": "code",
   "execution_count": 61,
   "metadata": {},
   "outputs": [
    {
     "data": {
      "text/plain": [
       "0.7772063456783319"
      ]
     },
     "execution_count": 61,
     "metadata": {},
     "output_type": "execute_result"
    }
   ],
   "source": [
    "oneHot = pd.get_dummies(df)\n",
    "# Let's separate our feature and target variables.\n",
    "x_data = oneHot.drop(['DailyQuantity'], axis = 1)\n",
    "y_data = oneHot['DailyQuantity']\n",
    "\n",
    "# Now we'll split them into training and testing sets with four folds.\n",
    "x_train, x_test, y_train, y_test = train_test_split(x_data, y_data, test_size = 0.25, random_state = 0)\n",
    "\n",
    "# Now we'll create a polynomial regression model.\n",
    "poly = PolynomialFeatures(degree = 2)\n",
    "train_x_poly = poly.fit_transform(x_train)\n",
    "lm = skl.linear_model.LinearRegression()\n",
    "train_y_ = lm.fit(train_x_poly, y_train)\n",
    "test_x_poly = poly.fit_transform(x_test)\n",
    "Yhat = lm.predict(test_x_poly)\n",
    "r2_score(Yhat, y_test)"
   ]
  },
  {
   "cell_type": "markdown",
   "metadata": {},
   "source": [
    "### Now let's break things down by product and use the same model on each of them."
   ]
  },
  {
   "cell_type": "code",
   "execution_count": 62,
   "metadata": {},
   "outputs": [
    {
     "data": {
      "text/plain": [
       "0.848606579064079"
      ]
     },
     "execution_count": 62,
     "metadata": {},
     "output_type": "execute_result"
    }
   ],
   "source": [
    "# Pennants\n",
    "temp = df[df['Item'] == 'Pennants']\n",
    "tempOneHot = pd.get_dummies(temp)\n",
    "x_data = tempOneHot.drop('DailyQuantity', axis = 1)\n",
    "y_data = tempOneHot['DailyQuantity']\n",
    "# Now we'll split them into training and testing sets with four folds.\n",
    "x_train, x_test, y_train, y_test = train_test_split(x_data, y_data, test_size = 0.25, random_state = 0)\n",
    "\n",
    "# Now we'll create a polynomial regression model.\n",
    "poly = PolynomialFeatures(degree = 2)\n",
    "train_x_poly = poly.fit_transform(x_train)\n",
    "lm = skl.linear_model.LinearRegression()\n",
    "train_y_ = lm.fit(train_x_poly, y_train)\n",
    "test_x_poly = poly.fit_transform(x_test)\n",
    "Yhat = lm.predict(test_x_poly)\n",
    "r2_score(Yhat, y_test)"
   ]
  },
  {
   "cell_type": "code",
   "execution_count": 63,
   "metadata": {},
   "outputs": [
    {
     "data": {
      "text/plain": [
       "0.7639836092541625"
      ]
     },
     "execution_count": 63,
     "metadata": {},
     "output_type": "execute_result"
    }
   ],
   "source": [
    "# Backpacks\n",
    "temp = df[df['Item'] == 'Backpacks']\n",
    "tempOneHot = pd.get_dummies(temp)\n",
    "x_data = tempOneHot.drop('DailyQuantity', axis = 1)\n",
    "y_data = tempOneHot['DailyQuantity']\n",
    "# Now we'll split them into training and testing sets with four folds.\n",
    "x_train, x_test, y_train, y_test = train_test_split(x_data, y_data, test_size = 0.25, random_state = 0)\n",
    "\n",
    "# Now we'll create a polynomial regression model.\n",
    "poly = PolynomialFeatures(degree = 2)\n",
    "train_x_poly = poly.fit_transform(x_train)\n",
    "lm = skl.linear_model.LinearRegression()\n",
    "train_y_ = lm.fit(train_x_poly, y_train)\n",
    "test_x_poly = poly.fit_transform(x_test)\n",
    "Yhat = lm.predict(test_x_poly)\n",
    "r2_score(Yhat, y_test)"
   ]
  },
  {
   "cell_type": "code",
   "execution_count": 64,
   "metadata": {},
   "outputs": [
    {
     "data": {
      "text/plain": [
       "0.8505539988742254"
      ]
     },
     "execution_count": 64,
     "metadata": {},
     "output_type": "execute_result"
    }
   ],
   "source": [
    "# Gloves\n",
    "temp = df[df['Item'] == 'Gloves']\n",
    "tempOneHot = pd.get_dummies(temp)\n",
    "x_data = tempOneHot.drop('DailyQuantity', axis = 1)\n",
    "y_data = tempOneHot['DailyQuantity']\n",
    "# Now we'll split them into training and testing sets with four folds.\n",
    "x_train, x_test, y_train, y_test = train_test_split(x_data, y_data, test_size = 0.25, random_state = 0)\n",
    "\n",
    "# Now we'll create a polynomial regression model.\n",
    "poly = PolynomialFeatures(degree = 2)\n",
    "train_x_poly = poly.fit_transform(x_train)\n",
    "lm = skl.linear_model.LinearRegression()\n",
    "train_y_ = lm.fit(train_x_poly, y_train)\n",
    "test_x_poly = poly.fit_transform(x_test)\n",
    "Yhat = lm.predict(test_x_poly)\n",
    "r2_score(Yhat, y_test)"
   ]
  },
  {
   "cell_type": "code",
   "execution_count": 65,
   "metadata": {},
   "outputs": [
    {
     "data": {
      "text/plain": [
       "0.8346673657280992"
      ]
     },
     "execution_count": 65,
     "metadata": {},
     "output_type": "execute_result"
    }
   ],
   "source": [
    "# Hats\n",
    "temp = df[df['Item'] == 'Hats']\n",
    "tempOneHot = pd.get_dummies(temp)\n",
    "x_data = tempOneHot.drop('DailyQuantity', axis = 1)\n",
    "y_data = tempOneHot['DailyQuantity']\n",
    "# Now we'll split them into training and testing sets with four folds.\n",
    "x_train, x_test, y_train, y_test = train_test_split(x_data, y_data, test_size = 0.25, random_state = 0)\n",
    "\n",
    "# Now we'll create a polynomial regression model.\n",
    "poly = PolynomialFeatures(degree = 2)\n",
    "train_x_poly = poly.fit_transform(x_train)\n",
    "lm = skl.linear_model.LinearRegression()\n",
    "train_y_ = lm.fit(train_x_poly, y_train)\n",
    "test_x_poly = poly.fit_transform(x_test)\n",
    "Yhat = lm.predict(test_x_poly)\n",
    "r2_score(Yhat, y_test)"
   ]
  },
  {
   "cell_type": "code",
   "execution_count": 66,
   "metadata": {},
   "outputs": [
    {
     "data": {
      "text/plain": [
       "0.7848362754058889"
      ]
     },
     "execution_count": 66,
     "metadata": {},
     "output_type": "execute_result"
    }
   ],
   "source": [
    "# Jerseys\n",
    "temp = df[df['Item'] == 'Jerseys']\n",
    "tempOneHot = pd.get_dummies(temp)\n",
    "x_data = tempOneHot.drop('DailyQuantity', axis = 1)\n",
    "y_data = tempOneHot['DailyQuantity']\n",
    "# Now we'll split them into training and testing sets with four folds.\n",
    "x_train, x_test, y_train, y_test = train_test_split(x_data, y_data, test_size = 0.25, random_state = 0)\n",
    "\n",
    "# Now we'll create a polynomial regression model.\n",
    "poly = PolynomialFeatures(degree = 2)\n",
    "train_x_poly = poly.fit_transform(x_train)\n",
    "lm = skl.linear_model.LinearRegression()\n",
    "train_y_ = lm.fit(train_x_poly, y_train)\n",
    "test_x_poly = poly.fit_transform(x_test)\n",
    "Yhat = lm.predict(test_x_poly)\n",
    "r2_score(Yhat, y_test)"
   ]
  },
  {
   "cell_type": "code",
   "execution_count": 67,
   "metadata": {},
   "outputs": [
    {
     "data": {
      "text/plain": [
       "0.8116732696003697"
      ]
     },
     "execution_count": 67,
     "metadata": {},
     "output_type": "execute_result"
    }
   ],
   "source": [
    "# Scarves\n",
    "temp = df[df['Item'] == 'Scarves']\n",
    "tempOneHot = pd.get_dummies(temp)\n",
    "x_data = tempOneHot.drop('DailyQuantity', axis = 1)\n",
    "y_data = tempOneHot['DailyQuantity']\n",
    "# Now we'll split them into training and testing sets with four folds.\n",
    "x_train, x_test, y_train, y_test = train_test_split(x_data, y_data, test_size = 0.25, random_state = 0)\n",
    "\n",
    "# Now we'll create a polynomial regression model.\n",
    "poly = PolynomialFeatures(degree = 2)\n",
    "train_x_poly = poly.fit_transform(x_train)\n",
    "lm = skl.linear_model.LinearRegression()\n",
    "train_y_ = lm.fit(train_x_poly, y_train)\n",
    "test_x_poly = poly.fit_transform(x_test)\n",
    "Yhat = lm.predict(test_x_poly)\n",
    "r2_score(Yhat, y_test)"
   ]
  },
  {
   "cell_type": "code",
   "execution_count": 68,
   "metadata": {},
   "outputs": [
    {
     "data": {
      "text/plain": [
       "0.7551420860452874"
      ]
     },
     "execution_count": 68,
     "metadata": {},
     "output_type": "execute_result"
    }
   ],
   "source": [
    "# Sweatshirt\n",
    "temp = df[df['Item'] == 'Sweatshirt']\n",
    "tempOneHot = pd.get_dummies(temp)\n",
    "x_data = tempOneHot.drop('DailyQuantity', axis = 1)\n",
    "y_data = tempOneHot['DailyQuantity']\n",
    "# Now we'll split them into training and testing sets with four folds.\n",
    "x_train, x_test, y_train, y_test = train_test_split(x_data, y_data, test_size = 0.25, random_state = 0)\n",
    "\n",
    "# Now we'll create a polynomial regression model.\n",
    "poly = PolynomialFeatures(degree = 2)\n",
    "train_x_poly = poly.fit_transform(x_train)\n",
    "lm = skl.linear_model.LinearRegression()\n",
    "train_y_ = lm.fit(train_x_poly, y_train)\n",
    "test_x_poly = poly.fit_transform(x_test)\n",
    "Yhat = lm.predict(test_x_poly)\n",
    "r2_score(Yhat, y_test)"
   ]
  },
  {
   "cell_type": "code",
   "execution_count": 69,
   "metadata": {},
   "outputs": [
    {
     "data": {
      "text/plain": [
       "-0.0011876484558299705"
      ]
     },
     "execution_count": 69,
     "metadata": {},
     "output_type": "execute_result"
    }
   ],
   "source": [
    "# Sunglasses\n",
    "temp = df[df['Item'] == 'Sunglasses']\n",
    "tempOneHot = pd.get_dummies(temp)\n",
    "x_data = tempOneHot.drop('DailyQuantity', axis = 1)\n",
    "y_data = tempOneHot['DailyQuantity']\n",
    "# Now we'll split them into training and testing sets with four folds.\n",
    "x_train, x_test, y_train, y_test = train_test_split(x_data, y_data, test_size = 0.25, random_state = 0)\n",
    "\n",
    "# Now we'll create a polynomial regression model.\n",
    "poly = PolynomialFeatures(degree = 2)\n",
    "train_x_poly = poly.fit_transform(x_train)\n",
    "lm = skl.linear_model.LinearRegression()\n",
    "train_y_ = lm.fit(train_x_poly, y_train)\n",
    "test_x_poly = poly.fit_transform(x_test)\n",
    "Yhat = lm.predict(test_x_poly)\n",
    "r2_score(Yhat, y_test)"
   ]
  },
  {
   "cell_type": "markdown",
   "metadata": {},
   "source": [
    "### This result is too low. Let's try a linear model for sunglasses."
   ]
  },
  {
   "cell_type": "code",
   "execution_count": 70,
   "metadata": {},
   "outputs": [
    {
     "data": {
      "text/plain": [
       "0.6266041688292435"
      ]
     },
     "execution_count": 70,
     "metadata": {},
     "output_type": "execute_result"
    }
   ],
   "source": [
    "# Now we'll create a linear regression model.\n",
    "mlr = LinearRegression()\n",
    "# Fit the multiple linear regression model.\n",
    "mlr.fit(x_train, y_train)\n",
    "# Now we can evaluate the R-sqared score using the test data.\n",
    "mlr.score(x_test, y_test)"
   ]
  },
  {
   "cell_type": "code",
   "execution_count": null,
   "metadata": {},
   "outputs": [],
   "source": [
    "# Now we'll create a linear regression model.\n",
    "mlr = LinearRegression()\n",
    "# Fit the multiple linear regression model.\n",
    "mlr.fit(x_train, y_train)\n",
    "# Now we can evaluate the R-sqared score using the test data.\n",
    "mlr.score(x_test, y_test)"
   ]
  },
  {
   "cell_type": "code",
   "execution_count": 71,
   "metadata": {},
   "outputs": [
    {
     "data": {
      "text/plain": [
       "0.6885485829940381"
      ]
     },
     "execution_count": 71,
     "metadata": {},
     "output_type": "execute_result"
    }
   ],
   "source": [
    "# Polos\n",
    "temp = df[df['Item'] == 'Polos']\n",
    "tempOneHot = pd.get_dummies(temp)\n",
    "x_data = tempOneHot.drop('DailyQuantity', axis = 1)\n",
    "y_data = tempOneHot['DailyQuantity']\n",
    "# Now we'll split them into training and testing sets with four folds.\n",
    "x_train, x_test, y_train, y_test = train_test_split(x_data, y_data, test_size = 0.25, random_state = 0)\n",
    "\n",
    "# Now we'll create a polynomial regression model.\n",
    "poly = PolynomialFeatures(degree = 2)\n",
    "train_x_poly = poly.fit_transform(x_train)\n",
    "lm = skl.linear_model.LinearRegression()\n",
    "train_y_ = lm.fit(train_x_poly, y_train)\n",
    "test_x_poly = poly.fit_transform(x_test)\n",
    "Yhat = lm.predict(test_x_poly)\n",
    "r2_score(Yhat, y_test)"
   ]
  },
  {
   "cell_type": "markdown",
   "metadata": {},
   "source": [
    "### We were able to beat Einstein's metrics on half of the items and come comparable on another quarter of them. The other quarter was not that far under though, and tweaking which factors are included could improve their scores."
   ]
  },
  {
   "cell_type": "markdown",
   "metadata": {},
   "source": [
    "### Boston and San Francisco have the best performance. If we can see why, the client can do similar things at their other locations."
   ]
  },
  {
   "cell_type": "code",
   "execution_count": 72,
   "metadata": {},
   "outputs": [
    {
     "data": {
      "text/plain": [
       "0.7896329845143988"
      ]
     },
     "execution_count": 72,
     "metadata": {},
     "output_type": "execute_result"
    }
   ],
   "source": [
    "# Boston\n",
    "temp = df[df['City'] == 'Boston']\n",
    "tempOneHot = pd.get_dummies(temp)\n",
    "x_data = tempOneHot.drop('DailyQuantity', axis = 1)\n",
    "y_data = tempOneHot['DailyQuantity']\n",
    "# Now we'll split them into training and testing sets with four folds.\n",
    "x_train, x_test, y_train, y_test = train_test_split(x_data, y_data, test_size = 0.25, random_state = 0)\n",
    "\n",
    "# Now we'll create a polynomial regression model.\n",
    "poly = PolynomialFeatures(degree = 2)\n",
    "train_x_poly = poly.fit_transform(x_train)\n",
    "lm = skl.linear_model.LinearRegression()\n",
    "train_y_ = lm.fit(train_x_poly, y_train)\n",
    "test_x_poly = poly.fit_transform(x_test)\n",
    "Yhat = lm.predict(test_x_poly)\n",
    "r2_score(Yhat, y_test)"
   ]
  },
  {
   "cell_type": "code",
   "execution_count": 74,
   "metadata": {},
   "outputs": [
    {
     "data": {
      "text/plain": [
       "0.8838713106549076"
      ]
     },
     "execution_count": 74,
     "metadata": {},
     "output_type": "execute_result"
    }
   ],
   "source": [
    "# San Francisco\n",
    "temp = df[df['City'] == 'San Francisco']\n",
    "tempOneHot = pd.get_dummies(temp)\n",
    "x_data = tempOneHot.drop('DailyQuantity', axis = 1)\n",
    "y_data = tempOneHot['DailyQuantity']\n",
    "# Now we'll split them into training and testing sets with four folds.\n",
    "x_train, x_test, y_train, y_test = train_test_split(x_data, y_data, test_size = 0.25, random_state = 0)\n",
    "\n",
    "# Now we'll create a polynomial regression model.\n",
    "poly = PolynomialFeatures(degree = 2)\n",
    "train_x_poly = poly.fit_transform(x_train)\n",
    "lm = skl.linear_model.LinearRegression()\n",
    "train_y_ = lm.fit(train_x_poly, y_train)\n",
    "test_x_poly = poly.fit_transform(x_test)\n",
    "Yhat = lm.predict(test_x_poly)\n",
    "r2_score(Yhat, y_test)"
   ]
  },
  {
   "cell_type": "markdown",
   "metadata": {},
   "source": [
    "### By analyzing the coefficients of the above models, we can tell the client which parameters to adjust in their practices to increases daily sales."
   ]
  },
  {
   "cell_type": "markdown",
   "metadata": {},
   "source": [
    "### Something that may be of interest to the client is to know how City and Promotion are related, so they can focus where to increase mailed coupons vs. printed coupons, etc."
   ]
  },
  {
   "cell_type": "code",
   "execution_count": 45,
   "metadata": {},
   "outputs": [
    {
     "data": {
      "text/html": [
       "<div>\n",
       "<style scoped>\n",
       "    .dataframe tbody tr th:only-of-type {\n",
       "        vertical-align: middle;\n",
       "    }\n",
       "\n",
       "    .dataframe tbody tr th {\n",
       "        vertical-align: top;\n",
       "    }\n",
       "\n",
       "    .dataframe thead th {\n",
       "        text-align: right;\n",
       "    }\n",
       "</style>\n",
       "<table border=\"1\" class=\"dataframe\">\n",
       "  <thead>\n",
       "    <tr style=\"text-align: right;\">\n",
       "      <th></th>\n",
       "      <th>City</th>\n",
       "      <th>Promotion</th>\n",
       "      <th>DailyQuantity</th>\n",
       "    </tr>\n",
       "  </thead>\n",
       "  <tbody>\n",
       "    <tr>\n",
       "      <td>0</td>\n",
       "      <td>Boston</td>\n",
       "      <td>Contest</td>\n",
       "      <td>999.018315</td>\n",
       "    </tr>\n",
       "    <tr>\n",
       "      <td>1</td>\n",
       "      <td>Boston</td>\n",
       "      <td>Coupon</td>\n",
       "      <td>1306.740458</td>\n",
       "    </tr>\n",
       "    <tr>\n",
       "      <td>2</td>\n",
       "      <td>Boston</td>\n",
       "      <td>Display</td>\n",
       "      <td>1250.709779</td>\n",
       "    </tr>\n",
       "    <tr>\n",
       "      <td>3</td>\n",
       "      <td>Boston</td>\n",
       "      <td>Mail-in</td>\n",
       "      <td>631.374682</td>\n",
       "    </tr>\n",
       "    <tr>\n",
       "      <td>4</td>\n",
       "      <td>Boston</td>\n",
       "      <td>None</td>\n",
       "      <td>650.525664</td>\n",
       "    </tr>\n",
       "    <tr>\n",
       "      <td>5</td>\n",
       "      <td>Chicago</td>\n",
       "      <td>Contest</td>\n",
       "      <td>337.621451</td>\n",
       "    </tr>\n",
       "    <tr>\n",
       "      <td>6</td>\n",
       "      <td>Chicago</td>\n",
       "      <td>Coupon</td>\n",
       "      <td>475.823276</td>\n",
       "    </tr>\n",
       "    <tr>\n",
       "      <td>7</td>\n",
       "      <td>Chicago</td>\n",
       "      <td>Display</td>\n",
       "      <td>413.563786</td>\n",
       "    </tr>\n",
       "    <tr>\n",
       "      <td>8</td>\n",
       "      <td>Chicago</td>\n",
       "      <td>Mail-in</td>\n",
       "      <td>216.584188</td>\n",
       "    </tr>\n",
       "    <tr>\n",
       "      <td>9</td>\n",
       "      <td>Chicago</td>\n",
       "      <td>None</td>\n",
       "      <td>162.482234</td>\n",
       "    </tr>\n",
       "    <tr>\n",
       "      <td>10</td>\n",
       "      <td>Dallas</td>\n",
       "      <td>Contest</td>\n",
       "      <td>75.706960</td>\n",
       "    </tr>\n",
       "    <tr>\n",
       "      <td>11</td>\n",
       "      <td>Dallas</td>\n",
       "      <td>Coupon</td>\n",
       "      <td>88.613636</td>\n",
       "    </tr>\n",
       "    <tr>\n",
       "      <td>12</td>\n",
       "      <td>Dallas</td>\n",
       "      <td>Display</td>\n",
       "      <td>83.150641</td>\n",
       "    </tr>\n",
       "    <tr>\n",
       "      <td>13</td>\n",
       "      <td>Dallas</td>\n",
       "      <td>Mail-in</td>\n",
       "      <td>48.125654</td>\n",
       "    </tr>\n",
       "    <tr>\n",
       "      <td>14</td>\n",
       "      <td>Dallas</td>\n",
       "      <td>None</td>\n",
       "      <td>59.104449</td>\n",
       "    </tr>\n",
       "    <tr>\n",
       "      <td>15</td>\n",
       "      <td>Detroit</td>\n",
       "      <td>Contest</td>\n",
       "      <td>146.185083</td>\n",
       "    </tr>\n",
       "    <tr>\n",
       "      <td>16</td>\n",
       "      <td>Detroit</td>\n",
       "      <td>Coupon</td>\n",
       "      <td>535.493056</td>\n",
       "    </tr>\n",
       "    <tr>\n",
       "      <td>17</td>\n",
       "      <td>Detroit</td>\n",
       "      <td>Display</td>\n",
       "      <td>261.581081</td>\n",
       "    </tr>\n",
       "    <tr>\n",
       "      <td>18</td>\n",
       "      <td>Detroit</td>\n",
       "      <td>Mail-in</td>\n",
       "      <td>78.075215</td>\n",
       "    </tr>\n",
       "    <tr>\n",
       "      <td>19</td>\n",
       "      <td>Detroit</td>\n",
       "      <td>None</td>\n",
       "      <td>74.000000</td>\n",
       "    </tr>\n",
       "    <tr>\n",
       "      <td>20</td>\n",
       "      <td>Honolulu</td>\n",
       "      <td>Contest</td>\n",
       "      <td>335.078550</td>\n",
       "    </tr>\n",
       "    <tr>\n",
       "      <td>21</td>\n",
       "      <td>Honolulu</td>\n",
       "      <td>Coupon</td>\n",
       "      <td>480.000000</td>\n",
       "    </tr>\n",
       "    <tr>\n",
       "      <td>22</td>\n",
       "      <td>Honolulu</td>\n",
       "      <td>Display</td>\n",
       "      <td>390.096939</td>\n",
       "    </tr>\n",
       "    <tr>\n",
       "      <td>23</td>\n",
       "      <td>Honolulu</td>\n",
       "      <td>Mail-in</td>\n",
       "      <td>218.172143</td>\n",
       "    </tr>\n",
       "    <tr>\n",
       "      <td>24</td>\n",
       "      <td>Honolulu</td>\n",
       "      <td>None</td>\n",
       "      <td>167.666667</td>\n",
       "    </tr>\n",
       "    <tr>\n",
       "      <td>25</td>\n",
       "      <td>Little Rock</td>\n",
       "      <td>Contest</td>\n",
       "      <td>586.277603</td>\n",
       "    </tr>\n",
       "    <tr>\n",
       "      <td>26</td>\n",
       "      <td>Little Rock</td>\n",
       "      <td>Coupon</td>\n",
       "      <td>576.849741</td>\n",
       "    </tr>\n",
       "    <tr>\n",
       "      <td>27</td>\n",
       "      <td>Little Rock</td>\n",
       "      <td>Display</td>\n",
       "      <td>609.593123</td>\n",
       "    </tr>\n",
       "    <tr>\n",
       "      <td>28</td>\n",
       "      <td>Little Rock</td>\n",
       "      <td>Mail-in</td>\n",
       "      <td>373.519328</td>\n",
       "    </tr>\n",
       "    <tr>\n",
       "      <td>29</td>\n",
       "      <td>Little Rock</td>\n",
       "      <td>None</td>\n",
       "      <td>535.808786</td>\n",
       "    </tr>\n",
       "    <tr>\n",
       "      <td>30</td>\n",
       "      <td>Miami</td>\n",
       "      <td>Contest</td>\n",
       "      <td>91.196721</td>\n",
       "    </tr>\n",
       "    <tr>\n",
       "      <td>31</td>\n",
       "      <td>Miami</td>\n",
       "      <td>Coupon</td>\n",
       "      <td>120.986607</td>\n",
       "    </tr>\n",
       "    <tr>\n",
       "      <td>32</td>\n",
       "      <td>Miami</td>\n",
       "      <td>Display</td>\n",
       "      <td>110.988095</td>\n",
       "    </tr>\n",
       "    <tr>\n",
       "      <td>33</td>\n",
       "      <td>Miami</td>\n",
       "      <td>Mail-in</td>\n",
       "      <td>63.337838</td>\n",
       "    </tr>\n",
       "    <tr>\n",
       "      <td>34</td>\n",
       "      <td>Miami</td>\n",
       "      <td>None</td>\n",
       "      <td>57.594643</td>\n",
       "    </tr>\n",
       "    <tr>\n",
       "      <td>35</td>\n",
       "      <td>New Haven</td>\n",
       "      <td>Contest</td>\n",
       "      <td>178.938983</td>\n",
       "    </tr>\n",
       "    <tr>\n",
       "      <td>36</td>\n",
       "      <td>New Haven</td>\n",
       "      <td>Coupon</td>\n",
       "      <td>239.983553</td>\n",
       "    </tr>\n",
       "    <tr>\n",
       "      <td>37</td>\n",
       "      <td>New Haven</td>\n",
       "      <td>Display</td>\n",
       "      <td>214.816794</td>\n",
       "    </tr>\n",
       "    <tr>\n",
       "      <td>38</td>\n",
       "      <td>New Haven</td>\n",
       "      <td>Mail-in</td>\n",
       "      <td>145.785853</td>\n",
       "    </tr>\n",
       "    <tr>\n",
       "      <td>39</td>\n",
       "      <td>New Haven</td>\n",
       "      <td>None</td>\n",
       "      <td>124.323944</td>\n",
       "    </tr>\n",
       "    <tr>\n",
       "      <td>40</td>\n",
       "      <td>New York City</td>\n",
       "      <td>Contest</td>\n",
       "      <td>351.363636</td>\n",
       "    </tr>\n",
       "    <tr>\n",
       "      <td>41</td>\n",
       "      <td>New York City</td>\n",
       "      <td>Coupon</td>\n",
       "      <td>396.571429</td>\n",
       "    </tr>\n",
       "    <tr>\n",
       "      <td>42</td>\n",
       "      <td>New York City</td>\n",
       "      <td>Display</td>\n",
       "      <td>471.795380</td>\n",
       "    </tr>\n",
       "    <tr>\n",
       "      <td>43</td>\n",
       "      <td>New York City</td>\n",
       "      <td>Mail-in</td>\n",
       "      <td>266.048753</td>\n",
       "    </tr>\n",
       "    <tr>\n",
       "      <td>44</td>\n",
       "      <td>New York City</td>\n",
       "      <td>None</td>\n",
       "      <td>453.765661</td>\n",
       "    </tr>\n",
       "    <tr>\n",
       "      <td>45</td>\n",
       "      <td>San Francisco</td>\n",
       "      <td>Contest</td>\n",
       "      <td>943.822222</td>\n",
       "    </tr>\n",
       "    <tr>\n",
       "      <td>46</td>\n",
       "      <td>San Francisco</td>\n",
       "      <td>Coupon</td>\n",
       "      <td>1836.196721</td>\n",
       "    </tr>\n",
       "    <tr>\n",
       "      <td>47</td>\n",
       "      <td>San Francisco</td>\n",
       "      <td>Display</td>\n",
       "      <td>1678.096220</td>\n",
       "    </tr>\n",
       "    <tr>\n",
       "      <td>48</td>\n",
       "      <td>San Francisco</td>\n",
       "      <td>Mail-in</td>\n",
       "      <td>534.618135</td>\n",
       "    </tr>\n",
       "    <tr>\n",
       "      <td>49</td>\n",
       "      <td>San Francisco</td>\n",
       "      <td>None</td>\n",
       "      <td>709.141096</td>\n",
       "    </tr>\n",
       "  </tbody>\n",
       "</table>\n",
       "</div>"
      ],
      "text/plain": [
       "             City Promotion  DailyQuantity\n",
       "0          Boston   Contest     999.018315\n",
       "1          Boston    Coupon    1306.740458\n",
       "2          Boston   Display    1250.709779\n",
       "3          Boston   Mail-in     631.374682\n",
       "4          Boston      None     650.525664\n",
       "5         Chicago   Contest     337.621451\n",
       "6         Chicago    Coupon     475.823276\n",
       "7         Chicago   Display     413.563786\n",
       "8         Chicago   Mail-in     216.584188\n",
       "9         Chicago      None     162.482234\n",
       "10         Dallas   Contest      75.706960\n",
       "11         Dallas    Coupon      88.613636\n",
       "12         Dallas   Display      83.150641\n",
       "13         Dallas   Mail-in      48.125654\n",
       "14         Dallas      None      59.104449\n",
       "15        Detroit   Contest     146.185083\n",
       "16        Detroit    Coupon     535.493056\n",
       "17        Detroit   Display     261.581081\n",
       "18        Detroit   Mail-in      78.075215\n",
       "19        Detroit      None      74.000000\n",
       "20       Honolulu   Contest     335.078550\n",
       "21       Honolulu    Coupon     480.000000\n",
       "22       Honolulu   Display     390.096939\n",
       "23       Honolulu   Mail-in     218.172143\n",
       "24       Honolulu      None     167.666667\n",
       "25    Little Rock   Contest     586.277603\n",
       "26    Little Rock    Coupon     576.849741\n",
       "27    Little Rock   Display     609.593123\n",
       "28    Little Rock   Mail-in     373.519328\n",
       "29    Little Rock      None     535.808786\n",
       "30          Miami   Contest      91.196721\n",
       "31          Miami    Coupon     120.986607\n",
       "32          Miami   Display     110.988095\n",
       "33          Miami   Mail-in      63.337838\n",
       "34          Miami      None      57.594643\n",
       "35      New Haven   Contest     178.938983\n",
       "36      New Haven    Coupon     239.983553\n",
       "37      New Haven   Display     214.816794\n",
       "38      New Haven   Mail-in     145.785853\n",
       "39      New Haven      None     124.323944\n",
       "40  New York City   Contest     351.363636\n",
       "41  New York City    Coupon     396.571429\n",
       "42  New York City   Display     471.795380\n",
       "43  New York City   Mail-in     266.048753\n",
       "44  New York City      None     453.765661\n",
       "45  San Francisco   Contest     943.822222\n",
       "46  San Francisco    Coupon    1836.196721\n",
       "47  San Francisco   Display    1678.096220\n",
       "48  San Francisco   Mail-in     534.618135\n",
       "49  San Francisco      None     709.141096"
      ]
     },
     "execution_count": 45,
     "metadata": {},
     "output_type": "execute_result"
    }
   ],
   "source": [
    "# First we'll group the table.\n",
    "df_group = df.groupby(['City', 'Promotion'], as_index = False).mean()\n",
    "# We'll need to remove the Discount column\n",
    "df_group.drop('Discount', axis = 1, inplace = True)\n",
    "df_group"
   ]
  },
  {
   "cell_type": "code",
   "execution_count": 46,
   "metadata": {},
   "outputs": [
    {
     "data": {
      "text/html": [
       "<div>\n",
       "<style scoped>\n",
       "    .dataframe tbody tr th:only-of-type {\n",
       "        vertical-align: middle;\n",
       "    }\n",
       "\n",
       "    .dataframe tbody tr th {\n",
       "        vertical-align: top;\n",
       "    }\n",
       "\n",
       "    .dataframe thead tr th {\n",
       "        text-align: left;\n",
       "    }\n",
       "\n",
       "    .dataframe thead tr:last-of-type th {\n",
       "        text-align: right;\n",
       "    }\n",
       "</style>\n",
       "<table border=\"1\" class=\"dataframe\">\n",
       "  <thead>\n",
       "    <tr>\n",
       "      <th></th>\n",
       "      <th colspan=\"5\" halign=\"left\">DailyQuantity</th>\n",
       "    </tr>\n",
       "    <tr>\n",
       "      <th>Promotion</th>\n",
       "      <th>Contest</th>\n",
       "      <th>Coupon</th>\n",
       "      <th>Display</th>\n",
       "      <th>Mail-in</th>\n",
       "      <th>None</th>\n",
       "    </tr>\n",
       "    <tr>\n",
       "      <th>City</th>\n",
       "      <th></th>\n",
       "      <th></th>\n",
       "      <th></th>\n",
       "      <th></th>\n",
       "      <th></th>\n",
       "    </tr>\n",
       "  </thead>\n",
       "  <tbody>\n",
       "    <tr>\n",
       "      <td>Boston</td>\n",
       "      <td>999.018315</td>\n",
       "      <td>1306.740458</td>\n",
       "      <td>1250.709779</td>\n",
       "      <td>631.374682</td>\n",
       "      <td>650.525664</td>\n",
       "    </tr>\n",
       "    <tr>\n",
       "      <td>Chicago</td>\n",
       "      <td>337.621451</td>\n",
       "      <td>475.823276</td>\n",
       "      <td>413.563786</td>\n",
       "      <td>216.584188</td>\n",
       "      <td>162.482234</td>\n",
       "    </tr>\n",
       "    <tr>\n",
       "      <td>Dallas</td>\n",
       "      <td>75.706960</td>\n",
       "      <td>88.613636</td>\n",
       "      <td>83.150641</td>\n",
       "      <td>48.125654</td>\n",
       "      <td>59.104449</td>\n",
       "    </tr>\n",
       "    <tr>\n",
       "      <td>Detroit</td>\n",
       "      <td>146.185083</td>\n",
       "      <td>535.493056</td>\n",
       "      <td>261.581081</td>\n",
       "      <td>78.075215</td>\n",
       "      <td>74.000000</td>\n",
       "    </tr>\n",
       "    <tr>\n",
       "      <td>Honolulu</td>\n",
       "      <td>335.078550</td>\n",
       "      <td>480.000000</td>\n",
       "      <td>390.096939</td>\n",
       "      <td>218.172143</td>\n",
       "      <td>167.666667</td>\n",
       "    </tr>\n",
       "    <tr>\n",
       "      <td>Little Rock</td>\n",
       "      <td>586.277603</td>\n",
       "      <td>576.849741</td>\n",
       "      <td>609.593123</td>\n",
       "      <td>373.519328</td>\n",
       "      <td>535.808786</td>\n",
       "    </tr>\n",
       "    <tr>\n",
       "      <td>Miami</td>\n",
       "      <td>91.196721</td>\n",
       "      <td>120.986607</td>\n",
       "      <td>110.988095</td>\n",
       "      <td>63.337838</td>\n",
       "      <td>57.594643</td>\n",
       "    </tr>\n",
       "    <tr>\n",
       "      <td>New Haven</td>\n",
       "      <td>178.938983</td>\n",
       "      <td>239.983553</td>\n",
       "      <td>214.816794</td>\n",
       "      <td>145.785853</td>\n",
       "      <td>124.323944</td>\n",
       "    </tr>\n",
       "    <tr>\n",
       "      <td>New York City</td>\n",
       "      <td>351.363636</td>\n",
       "      <td>396.571429</td>\n",
       "      <td>471.795380</td>\n",
       "      <td>266.048753</td>\n",
       "      <td>453.765661</td>\n",
       "    </tr>\n",
       "    <tr>\n",
       "      <td>San Francisco</td>\n",
       "      <td>943.822222</td>\n",
       "      <td>1836.196721</td>\n",
       "      <td>1678.096220</td>\n",
       "      <td>534.618135</td>\n",
       "      <td>709.141096</td>\n",
       "    </tr>\n",
       "  </tbody>\n",
       "</table>\n",
       "</div>"
      ],
      "text/plain": [
       "              DailyQuantity                                                  \n",
       "Promotion           Contest       Coupon      Display     Mail-in        None\n",
       "City                                                                         \n",
       "Boston           999.018315  1306.740458  1250.709779  631.374682  650.525664\n",
       "Chicago          337.621451   475.823276   413.563786  216.584188  162.482234\n",
       "Dallas            75.706960    88.613636    83.150641   48.125654   59.104449\n",
       "Detroit          146.185083   535.493056   261.581081   78.075215   74.000000\n",
       "Honolulu         335.078550   480.000000   390.096939  218.172143  167.666667\n",
       "Little Rock      586.277603   576.849741   609.593123  373.519328  535.808786\n",
       "Miami             91.196721   120.986607   110.988095   63.337838   57.594643\n",
       "New Haven        178.938983   239.983553   214.816794  145.785853  124.323944\n",
       "New York City    351.363636   396.571429   471.795380  266.048753  453.765661\n",
       "San Francisco    943.822222  1836.196721  1678.096220  534.618135  709.141096"
      ]
     },
     "execution_count": 46,
     "metadata": {},
     "output_type": "execute_result"
    }
   ],
   "source": [
    "# Now we'll use Month as the index and pivot Promotion to become a row.\n",
    "df_pivot = df_group.pivot(index = 'City', columns = 'Promotion')\n",
    "df_pivot"
   ]
  },
  {
   "cell_type": "code",
   "execution_count": 97,
   "metadata": {},
   "outputs": [
    {
     "data": {
      "image/png": "[encoded data removed]",
      "text/plain": [
       "<Figure size 576x576 with 2 Axes>"
      ]
     },
     "metadata": {
      "needs_background": "light"
     },
     "output_type": "display_data"
    }
   ],
   "source": [
    "# Plot heatmap\n",
    "f, ax = plt.subplots(figsize = (8, 8))\n",
    "ax.set_xticklabels(cities)\n",
    "ax.set_yticklabels(promotions)\n",
    "plt.pcolor(df_pivot, cmap = 'RdBu')\n",
    "plt.colorbar()\n",
    "plt.show()"
   ]
  },
  {
   "cell_type": "markdown",
   "metadata": {},
   "source": [
    "### The highest daily quantity occurs in Boston and San Fransico when the promotions are coupon, then display, then contest. This gives further insight to the client as to how to manage which types of promotions to send out to raise other location's performance to the level of their two best performing locations."
   ]
  },
  {
   "cell_type": "markdown",
   "metadata": {},
   "source": [
    "### I think one of the most beneficial things for a client trying to increase sales is a decision tree."
   ]
  },
  {
   "cell_type": "code",
   "execution_count": 44,
   "metadata": {},
   "outputs": [
    {
     "data": {
      "text/plain": [
       "'iris.pdf'"
      ]
     },
     "execution_count": 44,
     "metadata": {},
     "output_type": "execute_result"
    }
   ],
   "source": [
    "x_data = df3.drop('DailyQuantity', axis = 1)\n",
    "y_data = df3['DailyQuantity']\n",
    "dTree = tree.DecisionTreeClassifier()\n",
    "dTree.fit(x_data, y_data)\n",
    "dot_data = tree.export_graphviz(dTree, out_file = None)\n",
    "graph = graphviz.Source(dot_data)\n",
    "graph.render('iris')"
   ]
  },
  {
   "cell_type": "markdown",
   "metadata": {},
   "source": [
    "### The file is too large to fit well in the Jupyter Notebook, so it will be provided in a separate pdf."
   ]
  },
  {
   "cell_type": "markdown",
   "metadata": {},
   "source": [
    "### Although the decision tree produced by SciKit-Learn is optimal, a more useful decision tree can be produced manually. It would be better to hold things the client cannot vary constant, such as location, and keep those first in the tree. Then perhaps month followed by other parameters that are controllable by the client, such as discount and promotion type."
   ]
  }
 ],
 "metadata": {
  "kernelspec": {
   "display_name": "Python 3",
   "language": "python",
   "name": "python3"
  },
  "language_info": {
   "codemirror_mode": {
    "name": "ipython",
    "version": 3
   },
   "file_extension": ".py",
   "mimetype": "text/x-python",
   "name": "python",
   "nbconvert_exporter": "python",
   "pygments_lexer": "ipython3",
   "version": "3.7.4"
  }
 },
 "nbformat": 4,
 "nbformat_minor": 2
}
